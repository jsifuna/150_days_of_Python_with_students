{
  "nbformat": 4,
  "nbformat_minor": 0,
  "metadata": {
    "colab": {
      "provenance": []
    },
    "kernelspec": {
      "name": "python3",
      "display_name": "Python 3"
    },
    "language_info": {
      "name": "python"
    }
  },
  "cells": [
    {
      "cell_type": "markdown",
      "source": [
        "# **Python Functions**\n",
        "By James Sifuna, PhD"
      ],
      "metadata": {
        "id": "_X3_wRl2tcKY"
      }
    },
    {
      "cell_type": "markdown",
      "source": [
        " Python functions are reusable blocks of code that perform a specific task. They enhance the modularity and reusability of your code, making it more organized and manageable. Functions in Python are defined using the **def** keyword.\n",
        "\n",
        "There are two main types of functions in Python:\n",
        "\n",
        "- Built-in Functions: These are standard functions that come with Python, like print(), len(), etc.\n",
        "\n",
        "- User-defined Functions: These are functions that users create to perform specific tasks."
      ],
      "metadata": {
        "id": "EebIJpyNth3o"
      }
    },
    {
      "cell_type": "code",
      "execution_count": null,
      "metadata": {
        "colab": {
          "base_uri": "https://localhost:8080/"
        },
        "id": "uV2zq-dAsm-L",
        "outputId": "dc2291d0-fb4b-4a04-8c2a-2862a25b0e13"
      },
      "outputs": [
        {
          "output_type": "stream",
          "name": "stdout",
          "text": [
            "hello, James Sifuna\n"
          ]
        }
      ],
      "source": [
        "def name(fname, lname):\n",
        "  print(\"hello,\",fname, lname)\n",
        "\n",
        "name(\"James\",\"Sifuna\")"
      ]
    },
    {
      "cell_type": "markdown",
      "source": [
        "# **Function Arguments**"
      ],
      "metadata": {
        "id": "D4FqsYMGyIau"
      }
    },
    {
      "cell_type": "markdown",
      "source": [
        "There are four types of arguments that we can provide in a fucntion:\n",
        "\n",
        "1.   Default Arguments\n",
        "2.   Keyword Arguments\n",
        "3.   Required Arguments\n",
        "4.   Variable-Length Arguments"
      ],
      "metadata": {
        "id": "25t-vGMfyO0f"
      }
    },
    {
      "cell_type": "markdown",
      "source": [
        "**Default Arguments :** we can provide a default value while creating a function.This way the function assumes a default value even if a value is not provided in the function call for that argument."
      ],
      "metadata": {
        "id": "sESll1Xyyz6U"
      }
    },
    {
      "cell_type": "code",
      "source": [
        "def name(fname, mname= \"Simiyu\", lname = \"Sifuna\"):\n",
        "  print(\"Hello,\",fname,mname,lname)\n",
        "name(\"I m\")"
      ],
      "metadata": {
        "colab": {
          "base_uri": "https://localhost:8080/"
        },
        "id": "WSIP58zoyAS5",
        "outputId": "3e19f5ab-427d-4c1a-9a6f-0fddeb392f5e"
      },
      "execution_count": null,
      "outputs": [
        {
          "output_type": "stream",
          "name": "stdout",
          "text": [
            "Hello, I m Simiyu Sifuna\n"
          ]
        }
      ]
    },
    {
      "cell_type": "markdown",
      "source": [
        "**Keyword Arguments**: We can provide arguments with key = value, this way the interpreter recognizes the arguments by the parameter name. Hence, the order in which the arguments are passes does not matter."
      ],
      "metadata": {
        "id": "DAAep-LtGUQJ"
      }
    },
    {
      "cell_type": "code",
      "source": [
        "def name(fname, mname, lname):\n",
        "  print(\"Hello,\", fname,mname, lname)\n",
        "\n",
        "name(mname = \"Simiyu\",lname = \"Sifuna\",fname = \"I m\")"
      ],
      "metadata": {
        "colab": {
          "base_uri": "https://localhost:8080/"
        },
        "id": "lnqXbyvXGQ8I",
        "outputId": "7d527955-a38e-4e89-da8f-2763b86d717f"
      },
      "execution_count": null,
      "outputs": [
        {
          "output_type": "stream",
          "name": "stdout",
          "text": [
            "Hello, I m Simiyu Sifuna\n"
          ]
        }
      ]
    },
    {
      "cell_type": "markdown",
      "source": [
        "**Required arguments**: In case we dont pass the arguments with a key = value syntax, then it is necessary to pass the arguments in the correct positional order and the number of arguments passed should match with actual function definition."
      ],
      "metadata": {
        "id": "-uJAeQcVHmKG"
      }
    },
    {
      "cell_type": "code",
      "source": [
        "def name(fname,mname,lname):\n",
        "  print(\"Hello,\",fname,mname,lname)\n",
        "\n",
        "name(\"I m\",\"Simiyu\",\"Sifuna\")"
      ],
      "metadata": {
        "colab": {
          "base_uri": "https://localhost:8080/"
        },
        "id": "hd1JPV3bHbdL",
        "outputId": "5f1c2be3-593d-4466-eee2-cbc822a8b880"
      },
      "execution_count": null,
      "outputs": [
        {
          "output_type": "stream",
          "name": "stdout",
          "text": [
            "Hello, I m Simiyu Sifuna\n"
          ]
        }
      ]
    },
    {
      "cell_type": "markdown",
      "source": [
        "**Variable-length arguments:** Sometimes we may need to pass more arguments than those defined in the actual function.This can be done using variable-length arguments.\n",
        "\n",
        "There are two ways to achieve this : Arbitrary Arguments : while creating a function , pass a * before the parameter name while defining the function."
      ],
      "metadata": {
        "id": "N1GzLh1ZIZxZ"
      }
    },
    {
      "cell_type": "code",
      "source": [
        "def name(*name):\n",
        "  print(\"Hello,\",name[0],name[1],name[2])\n",
        "\n",
        "name(\"Dear\",\"Simiyu\",\"Sifuna\")"
      ],
      "metadata": {
        "colab": {
          "base_uri": "https://localhost:8080/"
        },
        "id": "L6lk25UcIYep",
        "outputId": "1ae2041d-159b-460b-b99a-d451b2455290"
      },
      "execution_count": null,
      "outputs": [
        {
          "output_type": "stream",
          "name": "stdout",
          "text": [
            "Hello, Dear Simiyu Sifuna\n"
          ]
        }
      ]
    },
    {
      "cell_type": "markdown",
      "source": [
        "**Keyword Arbitrary Arguments:**"
      ],
      "metadata": {
        "id": "cSoxCE-5JfLD"
      }
    },
    {
      "cell_type": "code",
      "source": [
        "def name(**name):\n",
        "  print(\"Hello,\",name[\"fname\"],name[\"mname\"],name[\"lname\"])\n",
        "\n",
        "name(mname=\"Simiyu\",lname=\"Sifuna\",fname=\"Dear\")"
      ],
      "metadata": {
        "colab": {
          "base_uri": "https://localhost:8080/"
        },
        "id": "L5QyHLuVJc_D",
        "outputId": "acc3a1c5-4184-42b6-ae75-3045f7fa3840"
      },
      "execution_count": null,
      "outputs": [
        {
          "output_type": "stream",
          "name": "stdout",
          "text": [
            "Hello, Dear Simiyu Sifuna\n"
          ]
        }
      ]
    },
    {
      "cell_type": "markdown",
      "source": [
        "# **Return Statement**"
      ],
      "metadata": {
        "id": "z6EDGtfPJ3G4"
      }
    },
    {
      "cell_type": "markdown",
      "source": [
        "The return statement is used to return the value of the expression back to the main function."
      ],
      "metadata": {
        "id": "oVS85RKZJ7k0"
      }
    },
    {
      "cell_type": "code",
      "source": [
        "def name(fname,mname,lname):\n",
        "  return \"hello,\" + fname + \" \" + mname + \" \" + lname\n",
        "\n",
        "print(name(\"I m\",\"Simiyu\",\"Sifuna\"))"
      ],
      "metadata": {
        "colab": {
          "base_uri": "https://localhost:8080/"
        },
        "id": "Qe-FYQ5bJ1gz",
        "outputId": "32dfdfc6-15b7-48c9-e91c-e3c2fe71b0bf"
      },
      "execution_count": null,
      "outputs": [
        {
          "output_type": "stream",
          "name": "stdout",
          "text": [
            "hello,I m Simiyu Sifuna\n"
          ]
        }
      ]
    },
    {
      "cell_type": "markdown",
      "source": [
        "# **Python Recursion**"
      ],
      "metadata": {
        "id": "FFATzRr_K2qP"
      }
    },
    {
      "cell_type": "markdown",
      "source": [
        "We can let the function call itself, such a process is known as calling a function recursively in python"
      ],
      "metadata": {
        "id": "S7dJwa0iK6EA"
      }
    },
    {
      "cell_type": "code",
      "source": [
        "def factorial(n):\n",
        "  if(n == 0 or n==1):\n",
        "    return 1\n",
        "  else:\n",
        "    return n*factorial(n-1)\n",
        "\n",
        "num = int(input(\"Enter the Number\"))\n",
        "print(\"number: \",num)\n",
        "print(\"Factorial:\",factorial(num))"
      ],
      "metadata": {
        "colab": {
          "base_uri": "https://localhost:8080/"
        },
        "id": "ZmAWi6RDK1di",
        "outputId": "b6b84476-8ba0-49a8-9a8d-acf617941953"
      },
      "execution_count": null,
      "outputs": [
        {
          "output_type": "stream",
          "name": "stdout",
          "text": [
            "Enter the Number2\n",
            "number:  2\n",
            "Factorial: 2\n"
          ]
        }
      ]
    },
    {
      "cell_type": "code",
      "source": [
        "#random Password Generator\n",
        "import random\n",
        "import string\n",
        "\n",
        "def generate_password(length=12):\n",
        "  characters = string.ascii_letters + string.digits + string.punctuation\n",
        "  password = ''.join(random.choice(characters) for _ in range(length))\n",
        "\n",
        "  return password\n",
        "\n",
        "try:\n",
        "  password_length = int(input(\"Enter the password length:\"))\n",
        "  num_passwords = int(input(\"Enter the number of passwords:\"))\n",
        "  for _ in range(num_passwords):\n",
        "    password = generate_password(password_length)\n",
        "    print(password)\n",
        "\n",
        "except ValueError:\n",
        "  print(\"Invalid input. Please enter valid numbers for password length and number of password\")"
      ],
      "metadata": {
        "id": "vsbry2upMCLx"
      },
      "execution_count": null,
      "outputs": []
    },
    {
      "cell_type": "code",
      "source": [
        "#countdown Timer\n",
        "\n",
        "import time\n",
        "def countdown(user_time):\n",
        "  while(user_time >= 0):\n",
        "    mins, secs = divmod(user_time,60)\n",
        "    timer = '{:02d}:{:02d}'.format(mins,secs)\n",
        "    print(timer,end='\\r')\n",
        "    time.sleep(1)\n",
        "    user_time -= 1\n",
        "  print('countdown off!')\n",
        "\n",
        "if __name__ == '__main__':\n",
        "  user_time = int(input(\"Enter a time in seconds:\"))\n",
        "  countdown(user_time)"
      ],
      "metadata": {
        "id": "dgTaQFHTOP-_"
      },
      "execution_count": null,
      "outputs": []
    },
    {
      "cell_type": "code",
      "source": [
        "#Pascal's Triangle\n",
        "from math import factorial\n",
        "def pascal_triangle(n):\n",
        "  for i in range(n):\n",
        "    for j in range(n-i+1):\n",
        "      print(end=' ')\n",
        "    for j in range(i+1):\n",
        "      print(factorial(i)//(factorial(j)*factorial(i-j)),end=' ')\n",
        "    print()\n",
        "\n",
        "if __name__ == '__main__':\n",
        "  pascal_triangle(8)"
      ],
      "metadata": {
        "id": "-bO-bGroSv-T"
      },
      "execution_count": null,
      "outputs": []
    },
    {
      "cell_type": "code",
      "source": [],
      "metadata": {
        "id": "WnwuqM8yTqZD"
      },
      "execution_count": null,
      "outputs": []
    }
  ]
}