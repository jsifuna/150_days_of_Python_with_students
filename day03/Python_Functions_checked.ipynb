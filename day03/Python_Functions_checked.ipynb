{
  "nbformat": 4,
  "nbformat_minor": 0,
  "metadata": {
    "colab": {
      "provenance": []
    },
    "kernelspec": {
      "name": "python3",
      "display_name": "Python 3"
    },
    "language_info": {
      "name": "python"
    }
  },
  "cells": [
    {
      "cell_type": "markdown",
      "source": [
        "# **Python Functions**\n",
        "By James Sifuna, PhD"
      ],
      "metadata": {
        "id": "_X3_wRl2tcKY"
      }
    },
    {
      "cell_type": "markdown",
      "source": [
        " Python functions are reusable blocks of code that perform a specific task. They enhance the modularity and reusability of your code, making it more organized and manageable. Functions in Python are defined using the **def** keyword.\n",
        "\n",
        "There are two main types of functions in Python:\n",
        "\n",
        "- Built-in Functions: These are standard functions that come with Python, like print(), len(), etc.\n",
        "\n",
        "- User-defined Functions: These are functions that users create to perform specific tasks."
      ],
      "metadata": {
        "id": "EebIJpyNth3o"
      }
    },
    {
      "cell_type": "code",
      "execution_count": 1,
      "metadata": {
        "colab": {
          "base_uri": "https://localhost:8080/"
        },
        "id": "uV2zq-dAsm-L",
        "outputId": "07ce82ef-d1bc-4040-8838-b775cfad14b7"
      },
      "outputs": [
        {
          "output_type": "stream",
          "name": "stdout",
          "text": [
            "hello, James Sifuna\n"
          ]
        }
      ],
      "source": [
        "def name(fname, lname):\n",
        "  print(\"hello,\",fname, lname)\n",
        "\n",
        "name(\"James\",\"Sifuna\")"
      ]
    },
    {
      "cell_type": "markdown",
      "source": [
        "# **Function Arguments**"
      ],
      "metadata": {
        "id": "D4FqsYMGyIau"
      }
    },
    {
      "cell_type": "markdown",
      "source": [
        "There are four types of arguments that we can provide in a fucntion:\n",
        "\n",
        "1.   Default Arguments\n",
        "2.   Keyword Arguments\n",
        "3.   Required Arguments\n",
        "4.   Variable-Length Arguments"
      ],
      "metadata": {
        "id": "25t-vGMfyO0f"
      }
    },
    {
      "cell_type": "markdown",
      "source": [
        "**Default Arguments :** we can provide a default value while creating a function.This way the function assumes a default value even if a value is not provided in the function call for that argument."
      ],
      "metadata": {
        "id": "sESll1Xyyz6U"
      }
    },
    {
      "cell_type": "code",
      "source": [
        "def name(fname, mname= \"Simiyu\", lname = \"Sifuna\"):\n",
        "  print(\"Hello,\",fname,mname,lname)\n",
        "name(\"I m\")"
      ],
      "metadata": {
        "colab": {
          "base_uri": "https://localhost:8080/"
        },
        "id": "WSIP58zoyAS5",
        "outputId": "cd3e12d2-023e-47bf-f3b9-b4cc84fc15f8"
      },
      "execution_count": 2,
      "outputs": [
        {
          "output_type": "stream",
          "name": "stdout",
          "text": [
            "Hello, I m Simiyu Sifuna\n"
          ]
        }
      ]
    },
    {
      "cell_type": "markdown",
      "source": [
        "**Keyword Arguments**: We can provide arguments with key = value, this way the interpreter recognizes the arguments by the parameter name. Hence, the order in which the arguments are passes does not matter."
      ],
      "metadata": {
        "id": "DAAep-LtGUQJ"
      }
    },
    {
      "cell_type": "code",
      "source": [
        "def name(fname, mname, lname):\n",
        "  print(\"Hello,\", fname,mname, lname)\n",
        "\n",
        "name(mname = \"Simiyu\",lname = \"Sifuna\",fname = \"I m\")"
      ],
      "metadata": {
        "colab": {
          "base_uri": "https://localhost:8080/"
        },
        "id": "lnqXbyvXGQ8I",
        "outputId": "60f1f30d-e0fb-4dc1-f928-d1c6c21830ab"
      },
      "execution_count": 3,
      "outputs": [
        {
          "output_type": "stream",
          "name": "stdout",
          "text": [
            "Hello, I m Simiyu Sifuna\n"
          ]
        }
      ]
    },
    {
      "cell_type": "markdown",
      "source": [
        "**Required arguments**: In case we dont pass the arguments with a key = value syntax, then it is necessary to pass the arguments in the correct positional order and the number of arguments passed should match with actual function definition."
      ],
      "metadata": {
        "id": "-uJAeQcVHmKG"
      }
    },
    {
      "cell_type": "code",
      "source": [
        "def name(fname,mname,lname):\n",
        "  print(\"Hello,\",fname,mname,lname)\n",
        "\n",
        "name(\"I m\",\"Simiyu\",\"Sifuna\")"
      ],
      "metadata": {
        "colab": {
          "base_uri": "https://localhost:8080/"
        },
        "id": "hd1JPV3bHbdL",
        "outputId": "2c2755c1-7a6c-4501-a5fb-3440e3ec0a34"
      },
      "execution_count": 4,
      "outputs": [
        {
          "output_type": "stream",
          "name": "stdout",
          "text": [
            "Hello, I m Simiyu Sifuna\n"
          ]
        }
      ]
    },
    {
      "cell_type": "markdown",
      "source": [
        "**Variable-length arguments:** Sometimes we may need to pass more arguments than those defined in the actual function.This can be done using variable-length arguments.\n",
        "\n",
        "There are two ways to achieve this : Arbitrary Arguments : while creating a function , pass a * before the parameter name while defining the function."
      ],
      "metadata": {
        "id": "N1GzLh1ZIZxZ"
      }
    },
    {
      "cell_type": "code",
      "source": [
        "def name(*name):\n",
        "  print(\"Hello,\",name[0],name[1],name[2])\n",
        "\n",
        "name(\"Dear\",\"Simiyu\",\"Sifuna\")"
      ],
      "metadata": {
        "colab": {
          "base_uri": "https://localhost:8080/"
        },
        "id": "L6lk25UcIYep",
        "outputId": "786b693d-3afe-4298-ddd9-2941c8e9f73a"
      },
      "execution_count": 5,
      "outputs": [
        {
          "output_type": "stream",
          "name": "stdout",
          "text": [
            "Hello, Dear Simiyu Sifuna\n"
          ]
        }
      ]
    },
    {
      "cell_type": "markdown",
      "source": [
        "**Keyword Arbitrary Arguments:**"
      ],
      "metadata": {
        "id": "cSoxCE-5JfLD"
      }
    },
    {
      "cell_type": "code",
      "source": [
        "def name(**name):\n",
        "  print(\"Hello,\",name[\"fname\"],name[\"mname\"],name[\"lname\"])\n",
        "\n",
        "name(mname=\"Simiyu\",lname=\"Sifuna\",fname=\"Dear\")"
      ],
      "metadata": {
        "colab": {
          "base_uri": "https://localhost:8080/"
        },
        "id": "L5QyHLuVJc_D",
        "outputId": "01842d51-6fff-4c01-ef03-aa158b6d7e84"
      },
      "execution_count": 6,
      "outputs": [
        {
          "output_type": "stream",
          "name": "stdout",
          "text": [
            "Hello, Dear Simiyu Sifuna\n"
          ]
        }
      ]
    },
    {
      "cell_type": "markdown",
      "source": [
        "# **Return Statement**"
      ],
      "metadata": {
        "id": "z6EDGtfPJ3G4"
      }
    },
    {
      "cell_type": "markdown",
      "source": [
        "The return statement is used to return the value of the expression back to the main function."
      ],
      "metadata": {
        "id": "oVS85RKZJ7k0"
      }
    },
    {
      "cell_type": "code",
      "source": [
        "def name(fname,mname,lname):\n",
        "  return \"hello,\" + fname + \" \" + mname + \" \" + lname\n",
        "\n",
        "print(name(\"I m\",\"Simiyu\",\"Sifuna\"))"
      ],
      "metadata": {
        "colab": {
          "base_uri": "https://localhost:8080/"
        },
        "id": "Qe-FYQ5bJ1gz",
        "outputId": "b87162eb-e5bb-4bc0-b9c2-7583e5b5c2fd"
      },
      "execution_count": 7,
      "outputs": [
        {
          "output_type": "stream",
          "name": "stdout",
          "text": [
            "hello,I m Simiyu Sifuna\n"
          ]
        }
      ]
    },
    {
      "cell_type": "markdown",
      "source": [
        "# **Python Recursion**"
      ],
      "metadata": {
        "id": "FFATzRr_K2qP"
      }
    },
    {
      "cell_type": "markdown",
      "source": [
        "We can let the function call itself, such a process is known as calling a function recursively in python"
      ],
      "metadata": {
        "id": "S7dJwa0iK6EA"
      }
    },
    {
      "cell_type": "code",
      "source": [
        "def factorial(n):\n",
        "  if(n == 0 or n==1):\n",
        "    return 1\n",
        "  else:\n",
        "    return n*factorial(n-1)\n",
        "\n",
        "num = int(input(\"Enter the Number\"))\n",
        "print(\"number: \",num)\n",
        "print(\"Factorial:\",factorial(num))"
      ],
      "metadata": {
        "colab": {
          "base_uri": "https://localhost:8080/"
        },
        "id": "ZmAWi6RDK1di",
        "outputId": "f0475e62-18f3-498e-f634-13562bf53cf6"
      },
      "execution_count": 8,
      "outputs": [
        {
          "output_type": "stream",
          "name": "stdout",
          "text": [
            "Enter the Number5\n",
            "number:  5\n",
            "Factorial: 120\n"
          ]
        }
      ]
    },
    {
      "cell_type": "code",
      "source": [
        "#random Password Generator\n",
        "import random\n",
        "import string\n",
        "\n",
        "def generate_password(length=12):\n",
        "  characters = string.ascii_letters + string.digits + string.punctuation\n",
        "  password = ''.join(random.choice(characters) for _ in range(length))\n",
        "\n",
        "  return password\n",
        "\n",
        "try:\n",
        "  password_length = int(input(\"Enter the password length:\"))\n",
        "  num_passwords = int(input(\"Enter the number of passwords:\"))\n",
        "  for _ in range(num_passwords):\n",
        "    password = generate_password(password_length)\n",
        "    print(password)\n",
        "\n",
        "except ValueError:\n",
        "  print(\"Invalid input. Please enter valid numbers for password length and number of password\")"
      ],
      "metadata": {
        "id": "vsbry2upMCLx",
        "colab": {
          "base_uri": "https://localhost:8080/"
        },
        "outputId": "83b3b55e-dadb-465a-e8b9-34623cdcd7c6"
      },
      "execution_count": 13,
      "outputs": [
        {
          "output_type": "stream",
          "name": "stdout",
          "text": [
            "Enter the password length:Shalom7898!!\n",
            "Invalid input. Please enter valid numbers for password length and number of password\n"
          ]
        }
      ]
    },
    {
      "cell_type": "code",
      "source": [
        "#countdown Timer\n",
        "\n",
        "import time\n",
        "def countdown(user_time):\n",
        "  while(user_time >= 0):\n",
        "    mins, secs = divmod(user_time,60)\n",
        "    timer = '{:02d}:{:02d}'.format(mins,secs)\n",
        "    print(timer,end='\\r')\n",
        "    time.sleep(1)\n",
        "    user_time -= 1\n",
        "  print('countdown off!')\n",
        "\n",
        "if __name__ == '__main__':\n",
        "  user_time = int(input(\"Enter a time in seconds:\"))\n",
        "  countdown(user_time)"
      ],
      "metadata": {
        "id": "dgTaQFHTOP-_",
        "colab": {
          "base_uri": "https://localhost:8080/"
        },
        "outputId": "f3f2d04c-8d3b-4d27-cb7e-fbd81a6ce522"
      },
      "execution_count": 10,
      "outputs": [
        {
          "output_type": "stream",
          "name": "stdout",
          "text": [
            "Enter a time in seconds:4\n",
            "countdown off!\n"
          ]
        }
      ]
    },
    {
      "cell_type": "code",
      "source": [
        "#Pascal's Triangle\n",
        "from math import factorial\n",
        "def pascal_triangle(n):\n",
        "  for i in range(n):\n",
        "    for j in range(n-i+1):\n",
        "      print(end=' ')\n",
        "    for j in range(i+1):\n",
        "      print(factorial(i)//(factorial(j)*factorial(i-j)),end=' ')\n",
        "    print()\n",
        "\n",
        "if __name__ == '__main__':\n",
        "  pascal_triangle(8)"
      ],
      "metadata": {
        "id": "-bO-bGroSv-T",
        "colab": {
          "base_uri": "https://localhost:8080/"
        },
        "outputId": "c66df15a-47de-4331-b5bd-a82756b92221"
      },
      "execution_count": 11,
      "outputs": [
        {
          "output_type": "stream",
          "name": "stdout",
          "text": [
            "         1 \n",
            "        1 1 \n",
            "       1 2 1 \n",
            "      1 3 3 1 \n",
            "     1 4 6 4 1 \n",
            "    1 5 10 10 5 1 \n",
            "   1 6 15 20 15 6 1 \n",
            "  1 7 21 35 35 21 7 1 \n"
          ]
        }
      ]
    },
    {
      "cell_type": "code",
      "source": [],
      "metadata": {
        "id": "WnwuqM8yTqZD"
      },
      "execution_count": 11,
      "outputs": []
    }
  ]
}