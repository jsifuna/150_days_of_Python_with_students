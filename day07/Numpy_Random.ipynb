{
  "nbformat": 4,
  "nbformat_minor": 0,
  "metadata": {
    "colab": {
      "provenance": []
    },
    "kernelspec": {
      "name": "python3",
      "display_name": "Python 3"
    },
    "language_info": {
      "name": "python"
    }
  },
  "cells": [
    {
      "cell_type": "markdown",
      "source": [
        "# **Numpy Random**\n",
        "James Sifuna (Ph.D)"
      ],
      "metadata": {
        "id": "PaoaxLYVNVPR"
      }
    },
    {
      "cell_type": "markdown",
      "source": [
        "Random number does not mean a different number everytime. Random means something that cannot be predicted logically.\n",
        "\n",
        "Example:\n",
        "\n",
        "x1:rand() method returns a random float between 0 and 1.\n",
        "\n",
        "x2: Generate a 1-D array containing 5 random floats.\n",
        "\n",
        "x3:Generate a 2-D array with 3 rows,each row containing 5 random numbers.\n",
        "\n",
        "x4: The choice() method allows you to generate a random value based on an array of values.\n",
        "\n",
        "x5: The choice() method also allows you to return an array of values.Add a size parameter to specify the shape of the array.\n",
        "\n",
        "x6:Generate a random integer from 0 to 100.\n",
        "\n",
        "x7:The randint() method takes a size parameter where you can specify the shape of an array.\n",
        "\n",
        "x8:Generate a 2-D array with 3 rows, each row containing 5 random integers from 0 to 100.\n"
      ],
      "metadata": {
        "id": "mQFEjyZ7NZo0"
      }
    },
    {
      "cell_type": "code",
      "execution_count": 1,
      "metadata": {
        "id": "cWeKNqgzNHCH"
      },
      "outputs": [],
      "source": [
        "from numpy import random\n",
        "x1 = random.rand()\n",
        "x2 = random.rand(5)\n",
        "x3 = random.rand(3,5)\n",
        "x4 = random.choice([3,5,7,9])\n",
        "x5 = random.choice([3,5,7,9],size=(3,5))\n",
        "x6 = random.randint(100)\n",
        "x7 = random.randint(100,size=(5))\n",
        "x8 = random.randint(100,size=(3,5))"
      ]
    },
    {
      "cell_type": "code",
      "source": [
        "print(x1)\n",
        "print(\"-------***------\")\n",
        "print(x2)\n",
        "print(\"-------***------\")\n",
        "print(x3)\n",
        "print(\"-------***------\")\n",
        "print(x4)\n",
        "print(\"-------***------\")\n",
        "print(x5)\n",
        "print(\"-------***------\")\n",
        "print(x6)\n",
        "print(\"-------***------\")\n",
        "print(x7)\n",
        "print(\"-------***------\")\n",
        "print(x8)"
      ],
      "metadata": {
        "colab": {
          "base_uri": "https://localhost:8080/"
        },
        "id": "Yj9K5zgVPiW1",
        "outputId": "4aadb081-ee84-48ff-f66f-7dd2c106d852"
      },
      "execution_count": 2,
      "outputs": [
        {
          "output_type": "stream",
          "name": "stdout",
          "text": [
            "0.4739397761877776\n",
            "-------***------\n",
            "[0.62046529 0.48254151 0.86752896 0.77719602 0.54971335]\n",
            "-------***------\n",
            "[[0.86292135 0.80887146 0.92512622 0.04686871 0.6939795 ]\n",
            " [0.5579395  0.31821426 0.16712563 0.65210995 0.64402076]\n",
            " [0.18728847 0.14179042 0.40895831 0.68369521 0.77148587]]\n",
            "-------***------\n",
            "5\n",
            "-------***------\n",
            "[[9 7 5 9 7]\n",
            " [7 7 9 9 5]\n",
            " [5 9 7 5 5]]\n",
            "-------***------\n",
            "25\n",
            "-------***------\n",
            "[96  7 15 57  6]\n",
            "-------***------\n",
            "[[ 8 35 33 36 26]\n",
            " [38 46 30 38  8]\n",
            " [15 67 39  4 54]]\n"
          ]
        }
      ]
    },
    {
      "cell_type": "markdown",
      "source": [
        "# **Normal(Gaussian) Distribution**\n",
        "\n",
        "It fits the probability distribution of many events, eg. IQ Scores, Heartbeat etc.\n",
        "\n",
        "- Binomial Distribution:\n",
        "\n",
        "- Poisson Distribution\n",
        "\n",
        "- Uniform Distribution\n",
        "\n",
        "- Logistic Distribution\n",
        "\n",
        "- Multinomial Distribution\n",
        "\n",
        "- Exponential Distribution\n",
        "\n",
        "- Chi Square Distribution\n",
        "\n",
        "- Rayleigh Distribution\n",
        "\n",
        "- Pareto Distribution\n",
        "\n",
        "- Zipf Distribution"
      ],
      "metadata": {
        "id": "01yYQ_VkQESv"
      }
    },
    {
      "cell_type": "code",
      "source": [
        "from numpy import random\n",
        "\n"
      ],
      "metadata": {
        "id": "C6kH4-azQBwv"
      },
      "execution_count": 3,
      "outputs": []
    },
    {
      "cell_type": "code",
      "source": [
        "y1 = random.normal(loc=1, scale=2, size=(2, 3))\n",
        "print(y1)"
      ],
      "metadata": {
        "colab": {
          "base_uri": "https://localhost:8080/"
        },
        "id": "sxl0c_T3QyJf",
        "outputId": "8b02f798-1e73-4b42-b465-39e9378846b7"
      },
      "execution_count": 4,
      "outputs": [
        {
          "output_type": "stream",
          "name": "stdout",
          "text": [
            "[[4.82269981 0.83823221 0.02681287]\n",
            " [0.59159433 2.71307091 5.26041997]]\n"
          ]
        }
      ]
    },
    {
      "cell_type": "code",
      "source": [
        "y2 = random.binomial(n=10, p=0.5, size=10)\n",
        "print(y2)"
      ],
      "metadata": {
        "colab": {
          "base_uri": "https://localhost:8080/"
        },
        "id": "T0S_VKPwQzuP",
        "outputId": "a7e11dde-3051-454c-f565-ee5ff3ec058f"
      },
      "execution_count": 5,
      "outputs": [
        {
          "output_type": "stream",
          "name": "stdout",
          "text": [
            "[7 4 8 5 6 3 5 7 6 6]\n"
          ]
        }
      ]
    },
    {
      "cell_type": "code",
      "source": [
        "y3 = random.poisson(lam=2, size=10)\n",
        "print(y3)"
      ],
      "metadata": {
        "colab": {
          "base_uri": "https://localhost:8080/"
        },
        "id": "21cKnbwBQ3cP",
        "outputId": "a4b470ef-9723-4785-ba28-d2d8625d95eb"
      },
      "execution_count": 6,
      "outputs": [
        {
          "output_type": "stream",
          "name": "stdout",
          "text": [
            "[2 1 0 5 1 2 4 3 0 2]\n"
          ]
        }
      ]
    },
    {
      "cell_type": "code",
      "source": [
        "y4 = random.uniform(size=(2, 3))\n",
        "print(y4)"
      ],
      "metadata": {
        "colab": {
          "base_uri": "https://localhost:8080/"
        },
        "id": "ARk0Mu9xQ7fH",
        "outputId": "907d70bc-7226-4f32-d29e-8357444a2e02"
      },
      "execution_count": 7,
      "outputs": [
        {
          "output_type": "stream",
          "name": "stdout",
          "text": [
            "[[0.8089715  0.17925132 0.78995523]\n",
            " [0.07566937 0.77900166 0.65192902]]\n"
          ]
        }
      ]
    },
    {
      "cell_type": "code",
      "source": [
        "y5 = random.logistic(loc=1, scale=2, size=(2, 3))\n",
        "print(y5)"
      ],
      "metadata": {
        "colab": {
          "base_uri": "https://localhost:8080/"
        },
        "id": "2RxHVGxtQ-sw",
        "outputId": "bae6d091-0584-45ff-a6f5-e4007778bdf4"
      },
      "execution_count": 8,
      "outputs": [
        {
          "output_type": "stream",
          "name": "stdout",
          "text": [
            "[[-0.69807494  0.15971464  0.15866953]\n",
            " [-6.25292776  3.80136175  1.89479968]]\n"
          ]
        }
      ]
    },
    {
      "cell_type": "code",
      "source": [
        "y6 = random.multinomial(n=6, pvals=[1/6, 1/6, 1/6, 1/6, 1/6, 1/6])\n",
        "print(y6)"
      ],
      "metadata": {
        "colab": {
          "base_uri": "https://localhost:8080/"
        },
        "id": "gkT0qLvhRCv1",
        "outputId": "07d085c9-160f-4192-8476-f19f328acf12"
      },
      "execution_count": 9,
      "outputs": [
        {
          "output_type": "stream",
          "name": "stdout",
          "text": [
            "[2 1 0 2 0 1]\n"
          ]
        }
      ]
    },
    {
      "cell_type": "code",
      "source": [
        "y7 = random.exponential(scale=2, size=(2, 3))\n",
        "print(y7)"
      ],
      "metadata": {
        "colab": {
          "base_uri": "https://localhost:8080/"
        },
        "id": "794B091YRHQr",
        "outputId": "bb1985a2-97a3-4045-e886-67e19ee0ae20"
      },
      "execution_count": 10,
      "outputs": [
        {
          "output_type": "stream",
          "name": "stdout",
          "text": [
            "[[5.07389848 0.10547678 2.38829186]\n",
            " [0.04821113 0.68378339 0.11294156]]\n"
          ]
        }
      ]
    },
    {
      "cell_type": "code",
      "source": [
        "y8 = random.chisquare(df=2, size=(2, 3))\n",
        "print(y8)"
      ],
      "metadata": {
        "colab": {
          "base_uri": "https://localhost:8080/"
        },
        "id": "4_MFsEZIRKlG",
        "outputId": "e1d38b9d-8416-4529-dcbf-0d05594b4022"
      },
      "execution_count": 11,
      "outputs": [
        {
          "output_type": "stream",
          "name": "stdout",
          "text": [
            "[[0.50367439 7.44466742 1.02541035]\n",
            " [6.53579332 2.44023005 1.45372851]]\n"
          ]
        }
      ]
    },
    {
      "cell_type": "code",
      "source": [
        "y9 = random.rayleigh(scale=2, size=(2, 3))\n",
        "print(y9)"
      ],
      "metadata": {
        "colab": {
          "base_uri": "https://localhost:8080/"
        },
        "id": "8w9B-ZHdROtz",
        "outputId": "642e649a-96d1-46d5-995b-faf1b01c270c"
      },
      "execution_count": 12,
      "outputs": [
        {
          "output_type": "stream",
          "name": "stdout",
          "text": [
            "[[3.47877141 2.02988711 0.97316311]\n",
            " [4.1562735  2.35196669 3.48780107]]\n"
          ]
        }
      ]
    },
    {
      "cell_type": "code",
      "source": [
        "y10 = random.pareto(a=2, size=(2, 3))\n",
        "print(y10)"
      ],
      "metadata": {
        "colab": {
          "base_uri": "https://localhost:8080/"
        },
        "id": "RzQrA8M1RRbt",
        "outputId": "0b0bd677-660d-4e2a-e0f0-94b37e95993e"
      },
      "execution_count": 13,
      "outputs": [
        {
          "output_type": "stream",
          "name": "stdout",
          "text": [
            "[[0.13542136 0.11677066 0.16104827]\n",
            " [0.46232877 0.5012571  1.71680305]]\n"
          ]
        }
      ]
    },
    {
      "cell_type": "code",
      "source": [
        "y11 = random.zipf(a=2, size=(2, 3))\n",
        "print(y11)"
      ],
      "metadata": {
        "colab": {
          "base_uri": "https://localhost:8080/"
        },
        "id": "aq7MoQGZRetL",
        "outputId": "151c4364-1109-4e8f-fa8c-ab402abcfd29"
      },
      "execution_count": 14,
      "outputs": [
        {
          "output_type": "stream",
          "name": "stdout",
          "text": [
            "[[1 1 4]\n",
            " [1 1 1]]\n"
          ]
        }
      ]
    },
    {
      "cell_type": "markdown",
      "source": [
        "# **Visualization of Distribution**"
      ],
      "metadata": {
        "id": "JvOZYb_kRweM"
      }
    },
    {
      "cell_type": "code",
      "source": [
        "from numpy import random\n",
        "import matplotlib.pyplot as plt\n",
        "import seaborn as sns"
      ],
      "metadata": {
        "id": "tCd606BhRh9y"
      },
      "execution_count": 15,
      "outputs": []
    },
    {
      "cell_type": "code",
      "source": [
        "# Create subplots to display the distributions using Seaborn\n",
        "plt.figure(figsize=(12,12))"
      ],
      "metadata": {
        "colab": {
          "base_uri": "https://localhost:8080/",
          "height": 53
        },
        "id": "y1XPOBIrR_6p",
        "outputId": "c1971869-c58f-4633-bea3-8055beede33a"
      },
      "execution_count": 16,
      "outputs": [
        {
          "output_type": "execute_result",
          "data": {
            "text/plain": [
              "<Figure size 1200x1200 with 0 Axes>"
            ]
          },
          "metadata": {},
          "execution_count": 16
        },
        {
          "output_type": "display_data",
          "data": {
            "text/plain": [
              "<Figure size 1200x1200 with 0 Axes>"
            ]
          },
          "metadata": {}
        }
      ]
    },
    {
      "cell_type": "code",
      "source": [
        "plt.tight_layout()\n",
        "plt.show()"
      ],
      "metadata": {
        "colab": {
          "base_uri": "https://localhost:8080/",
          "height": 35
        },
        "id": "r00dfPd0SnS3",
        "outputId": "57117980-88e0-4370-fc55-7e903631468f"
      },
      "execution_count": 17,
      "outputs": [
        {
          "output_type": "display_data",
          "data": {
            "text/plain": [
              "<Figure size 640x480 with 0 Axes>"
            ]
          },
          "metadata": {}
        }
      ]
    },
    {
      "cell_type": "code",
      "source": [
        "# Plot Normal distribution\n",
        "plt.subplot(331)\n",
        "sns.distplot(random.normal(size=1000), hist=False)\n",
        "plt.title('Normal Distribution')"
      ],
      "metadata": {
        "colab": {
          "base_uri": "https://localhost:8080/",
          "height": 405
        },
        "id": "OYAS-6odSDSP",
        "outputId": "d210c4cd-db53-438b-a98d-21fb94c02964"
      },
      "execution_count": 18,
      "outputs": [
        {
          "output_type": "stream",
          "name": "stderr",
          "text": [
            "<ipython-input-18-d4f1f01f96bc>:3: UserWarning: \n",
            "\n",
            "`distplot` is a deprecated function and will be removed in seaborn v0.14.0.\n",
            "\n",
            "Please adapt your code to use either `displot` (a figure-level function with\n",
            "similar flexibility) or `kdeplot` (an axes-level function for kernel density plots).\n",
            "\n",
            "For a guide to updating your code to use the new functions, please see\n",
            "https://gist.github.com/mwaskom/de44147ed2974457ad6372750bbe5751\n",
            "\n",
            "  sns.distplot(random.normal(size=1000), hist=False)\n"
          ]
        },
        {
          "output_type": "execute_result",
          "data": {
            "text/plain": [
              "Text(0.5, 1.0, 'Normal Distribution')"
            ]
          },
          "metadata": {},
          "execution_count": 18
        },
        {
          "output_type": "display_data",
          "data": {
            "text/plain": [
              "<Figure size 640x480 with 1 Axes>"
            ],
            "image/png": "[encoded data removed]"
          },
          "metadata": {}
        }
      ]
    },
    {
      "cell_type": "code",
      "source": [
        "# Plot Binomial distribution\n",
        "plt.subplot(332)\n",
        "sns.distplot(random.binomial(n=10, p=0.5, size=1000), hist=True, kde=False)\n",
        "plt.title('Binomial Distribution')"
      ],
      "metadata": {
        "colab": {
          "base_uri": "https://localhost:8080/",
          "height": 405
        },
        "id": "haDwkBRJSRqm",
        "outputId": "3b037c9a-e885-49da-abb9-325cec9b68e1"
      },
      "execution_count": 19,
      "outputs": [
        {
          "output_type": "stream",
          "name": "stderr",
          "text": [
            "<ipython-input-19-f4edfdccf5db>:3: UserWarning: \n",
            "\n",
            "`distplot` is a deprecated function and will be removed in seaborn v0.14.0.\n",
            "\n",
            "Please adapt your code to use either `displot` (a figure-level function with\n",
            "similar flexibility) or `histplot` (an axes-level function for histograms).\n",
            "\n",
            "For a guide to updating your code to use the new functions, please see\n",
            "https://gist.github.com/mwaskom/de44147ed2974457ad6372750bbe5751\n",
            "\n",
            "  sns.distplot(random.binomial(n=10, p=0.5, size=1000), hist=True, kde=False)\n"
          ]
        },
        {
          "output_type": "execute_result",
          "data": {
            "text/plain": [
              "Text(0.5, 1.0, 'Binomial Distribution')"
            ]
          },
          "metadata": {},
          "execution_count": 19
        },
        {
          "output_type": "display_data",
          "data": {
            "text/plain": [
              "<Figure size 640x480 with 1 Axes>"
            ],
            "image/png": "[encoded data removed]"
          },
          "metadata": {}
        }
      ]
    },
    {
      "cell_type": "code",
      "source": [
        "# Plot Poisson distribution\n",
        "plt.subplot(333)\n",
        "sns.distplot(random.poisson(lam=2, size=1000), kde=False)\n",
        "plt.title('Poisson distribution')"
      ],
      "metadata": {
        "colab": {
          "base_uri": "https://localhost:8080/",
          "height": 405
        },
        "id": "BaYDhLpCS0pp",
        "outputId": "d020c490-99d0-4dae-a7b6-638dd9dfe5e4"
      },
      "execution_count": 20,
      "outputs": [
        {
          "output_type": "stream",
          "name": "stderr",
          "text": [
            "<ipython-input-20-5ac836304b02>:3: UserWarning: \n",
            "\n",
            "`distplot` is a deprecated function and will be removed in seaborn v0.14.0.\n",
            "\n",
            "Please adapt your code to use either `displot` (a figure-level function with\n",
            "similar flexibility) or `histplot` (an axes-level function for histograms).\n",
            "\n",
            "For a guide to updating your code to use the new functions, please see\n",
            "https://gist.github.com/mwaskom/de44147ed2974457ad6372750bbe5751\n",
            "\n",
            "  sns.distplot(random.poisson(lam=2, size=1000), kde=False)\n"
          ]
        },
        {
          "output_type": "execute_result",
          "data": {
            "text/plain": [
              "Text(0.5, 1.0, 'Poisson distribution')"
            ]
          },
          "metadata": {},
          "execution_count": 20
        },
        {
          "output_type": "display_data",
          "data": {
            "text/plain": [
              "<Figure size 640x480 with 1 Axes>"
            ],
            "image/png": "[encoded data removed]"
          },
          "metadata": {}
        }
      ]
    },
    {
      "cell_type": "code",
      "source": [
        "# Plot uniform distribution\n",
        "plt.subplot(334)\n",
        "sns.distplot(random.uniform(size=1000), hist=False)\n",
        "plt.title('Uniform distribution')"
      ],
      "metadata": {
        "colab": {
          "base_uri": "https://localhost:8080/",
          "height": 405
        },
        "id": "6L-oOFDGS28_",
        "outputId": "729587fe-def8-4f30-fd37-d565cc13dfe9"
      },
      "execution_count": 21,
      "outputs": [
        {
          "output_type": "stream",
          "name": "stderr",
          "text": [
            "<ipython-input-21-a406ded07768>:3: UserWarning: \n",
            "\n",
            "`distplot` is a deprecated function and will be removed in seaborn v0.14.0.\n",
            "\n",
            "Please adapt your code to use either `displot` (a figure-level function with\n",
            "similar flexibility) or `kdeplot` (an axes-level function for kernel density plots).\n",
            "\n",
            "For a guide to updating your code to use the new functions, please see\n",
            "https://gist.github.com/mwaskom/de44147ed2974457ad6372750bbe5751\n",
            "\n",
            "  sns.distplot(random.uniform(size=1000), hist=False)\n"
          ]
        },
        {
          "output_type": "execute_result",
          "data": {
            "text/plain": [
              "Text(0.5, 1.0, 'Uniform distribution')"
            ]
          },
          "metadata": {},
          "execution_count": 21
        },
        {
          "output_type": "display_data",
          "data": {
            "text/plain": [
              "<Figure size 640x480 with 1 Axes>"
            ],
            "image/png": "[encoded data removed]"
          },
          "metadata": {}
        }
      ]
    },
    {
      "cell_type": "code",
      "source": [
        "# Plot logistic distribution\n",
        "plt.subplot(335)\n",
        "sns.distplot(random.logistic(size=1000), hist=False)\n",
        "plt.title('logistic distribution')"
      ],
      "metadata": {
        "colab": {
          "base_uri": "https://localhost:8080/",
          "height": 405
        },
        "id": "r0IyR8gCS4-q",
        "outputId": "7b3cd112-76bc-49c5-aed4-e5e662ff4a73"
      },
      "execution_count": 22,
      "outputs": [
        {
          "output_type": "stream",
          "name": "stderr",
          "text": [
            "<ipython-input-22-eed3e6f73408>:3: UserWarning: \n",
            "\n",
            "`distplot` is a deprecated function and will be removed in seaborn v0.14.0.\n",
            "\n",
            "Please adapt your code to use either `displot` (a figure-level function with\n",
            "similar flexibility) or `kdeplot` (an axes-level function for kernel density plots).\n",
            "\n",
            "For a guide to updating your code to use the new functions, please see\n",
            "https://gist.github.com/mwaskom/de44147ed2974457ad6372750bbe5751\n",
            "\n",
            "  sns.distplot(random.logistic(size=1000), hist=False)\n"
          ]
        },
        {
          "output_type": "execute_result",
          "data": {
            "text/plain": [
              "Text(0.5, 1.0, 'logistic distribution')"
            ]
          },
          "metadata": {},
          "execution_count": 22
        },
        {
          "output_type": "display_data",
          "data": {
            "text/plain": [
              "<Figure size 640x480 with 1 Axes>"
            ],
            "image/png": "[encoded data removed]"
          },
          "metadata": {}
        }
      ]
    },
    {
      "cell_type": "code",
      "source": [
        "# Plot multinomial distribution\n",
        "plt.subplot(336)\n",
        "sns.distplot(random.multinomial(n=6, pvals=[1/6, 1/6, 1/6, 1/6, 1/6, 1/6]))\n",
        "plt.title('multinomial distribution')"
      ],
      "metadata": {
        "colab": {
          "base_uri": "https://localhost:8080/",
          "height": 405
        },
        "id": "Ln4doIqES7HT",
        "outputId": "3cc5ee33-230f-41e6-9d00-8c90557650b9"
      },
      "execution_count": 23,
      "outputs": [
        {
          "output_type": "stream",
          "name": "stderr",
          "text": [
            "<ipython-input-23-79ca5b8e2f13>:3: UserWarning: \n",
            "\n",
            "`distplot` is a deprecated function and will be removed in seaborn v0.14.0.\n",
            "\n",
            "Please adapt your code to use either `displot` (a figure-level function with\n",
            "similar flexibility) or `histplot` (an axes-level function for histograms).\n",
            "\n",
            "For a guide to updating your code to use the new functions, please see\n",
            "https://gist.github.com/mwaskom/de44147ed2974457ad6372750bbe5751\n",
            "\n",
            "  sns.distplot(random.multinomial(n=6, pvals=[1/6, 1/6, 1/6, 1/6, 1/6, 1/6]))\n"
          ]
        },
        {
          "output_type": "execute_result",
          "data": {
            "text/plain": [
              "Text(0.5, 1.0, 'multinomial distribution')"
            ]
          },
          "metadata": {},
          "execution_count": 23
        },
        {
          "output_type": "display_data",
          "data": {
            "text/plain": [
              "<Figure size 640x480 with 1 Axes>"
            ],
            "image/png": "[encoded data removed]"
          },
          "metadata": {}
        }
      ]
    },
    {
      "cell_type": "code",
      "source": [
        "# Plot exponential distribution\n",
        "plt.subplot(337)\n",
        "sns.distplot(random.exponential(size=1000), hist=False)\n",
        "plt.title('exponential distribution')"
      ],
      "metadata": {
        "colab": {
          "base_uri": "https://localhost:8080/",
          "height": 405
        },
        "id": "OIWCdYx_S9P6",
        "outputId": "db3eecd6-5f5c-451b-99e5-f73dde95bc3d"
      },
      "execution_count": 24,
      "outputs": [
        {
          "output_type": "stream",
          "name": "stderr",
          "text": [
            "<ipython-input-24-9aaf9574abf2>:3: UserWarning: \n",
            "\n",
            "`distplot` is a deprecated function and will be removed in seaborn v0.14.0.\n",
            "\n",
            "Please adapt your code to use either `displot` (a figure-level function with\n",
            "similar flexibility) or `kdeplot` (an axes-level function for kernel density plots).\n",
            "\n",
            "For a guide to updating your code to use the new functions, please see\n",
            "https://gist.github.com/mwaskom/de44147ed2974457ad6372750bbe5751\n",
            "\n",
            "  sns.distplot(random.exponential(size=1000), hist=False)\n"
          ]
        },
        {
          "output_type": "execute_result",
          "data": {
            "text/plain": [
              "Text(0.5, 1.0, 'exponential distribution')"
            ]
          },
          "metadata": {},
          "execution_count": 24
        },
        {
          "output_type": "display_data",
          "data": {
            "text/plain": [
              "<Figure size 640x480 with 1 Axes>"
            ],
            "image/png": "[encoded data removed]"
          },
          "metadata": {}
        }
      ]
    },
    {
      "cell_type": "code",
      "source": [
        "# Plot chisquare distribution\n",
        "plt.subplot(338)\n",
        "sns.distplot(random.chisquare(df=1, size=1000), hist=False)\n",
        "plt.title('Chisquare distribution')\n"
      ],
      "metadata": {
        "colab": {
          "base_uri": "https://localhost:8080/",
          "height": 405
        },
        "id": "5qcgU2UAS-82",
        "outputId": "f3061ec5-aae1-47da-accc-aa816fa78600"
      },
      "execution_count": 25,
      "outputs": [
        {
          "output_type": "stream",
          "name": "stderr",
          "text": [
            "<ipython-input-25-3c19dadba643>:3: UserWarning: \n",
            "\n",
            "`distplot` is a deprecated function and will be removed in seaborn v0.14.0.\n",
            "\n",
            "Please adapt your code to use either `displot` (a figure-level function with\n",
            "similar flexibility) or `kdeplot` (an axes-level function for kernel density plots).\n",
            "\n",
            "For a guide to updating your code to use the new functions, please see\n",
            "https://gist.github.com/mwaskom/de44147ed2974457ad6372750bbe5751\n",
            "\n",
            "  sns.distplot(random.chisquare(df=1, size=1000), hist=False)\n"
          ]
        },
        {
          "output_type": "execute_result",
          "data": {
            "text/plain": [
              "Text(0.5, 1.0, 'Chisquare distribution')"
            ]
          },
          "metadata": {},
          "execution_count": 25
        },
        {
          "output_type": "display_data",
          "data": {
            "text/plain": [
              "<Figure size 640x480 with 1 Axes>"
            ],
            "image/png": "[encoded data removed]"
          },
          "metadata": {}
        }
      ]
    },
    {
      "cell_type": "code",
      "source": [
        "# Plot rayleigh distribution\n",
        "plt.subplot(339)\n",
        "sns.distplot(random.rayleigh(size=1000), hist=False)\n",
        "plt.title('rayleigh distribution')"
      ],
      "metadata": {
        "colab": {
          "base_uri": "https://localhost:8080/",
          "height": 405
        },
        "id": "ceNkJDdnTBpM",
        "outputId": "901bcb61-6e62-4fb9-bbf2-b0aa8b8b3838"
      },
      "execution_count": 26,
      "outputs": [
        {
          "output_type": "stream",
          "name": "stderr",
          "text": [
            "<ipython-input-26-47bb6dff846c>:3: UserWarning: \n",
            "\n",
            "`distplot` is a deprecated function and will be removed in seaborn v0.14.0.\n",
            "\n",
            "Please adapt your code to use either `displot` (a figure-level function with\n",
            "similar flexibility) or `kdeplot` (an axes-level function for kernel density plots).\n",
            "\n",
            "For a guide to updating your code to use the new functions, please see\n",
            "https://gist.github.com/mwaskom/de44147ed2974457ad6372750bbe5751\n",
            "\n",
            "  sns.distplot(random.rayleigh(size=1000), hist=False)\n"
          ]
        },
        {
          "output_type": "execute_result",
          "data": {
            "text/plain": [
              "Text(0.5, 1.0, 'rayleigh distribution')"
            ]
          },
          "metadata": {},
          "execution_count": 26
        },
        {
          "output_type": "display_data",
          "data": {
            "text/plain": [
              "<Figure size 640x480 with 1 Axes>"
            ],
            "image/png": "[encoded data removed]"
          },
          "metadata": {}
        }
      ]
    },
    {
      "cell_type": "markdown",
      "source": [
        "# **Numpy Universal Functions**"
      ],
      "metadata": {
        "id": "e6AfK3uATG2b"
      }
    },
    {
      "cell_type": "markdown",
      "source": [
        "# Simple Arithmetic\n",
        "\n",
        "- add()\n",
        "\n",
        "- subtract()\n",
        "\n",
        "- multiply()\n",
        "\n",
        "- divide()\n",
        "\n",
        "- power()\n",
        "\n",
        "- mod()\n",
        "\n",
        "- remainder()\n",
        "\n",
        "- divmod()\n",
        "\n",
        "- absolute()"
      ],
      "metadata": {
        "id": "su0l0RPKTMB5"
      }
    },
    {
      "cell_type": "code",
      "source": [
        "import numpy as np\n",
        "\n",
        "arr1 = np.array([10,11,12,13,14,15])\n",
        "arr2 = np.array([20,21,22,23,24,25])\n",
        "\n",
        "new1 = np.add(arr1,arr2)\n",
        "new2 = np.subtract(arr1,arr2)\n",
        "new3 = np.multiply(arr1,arr2)\n",
        "\n",
        "print(new1)\n",
        "print(new2)\n",
        "print(new3)"
      ],
      "metadata": {
        "colab": {
          "base_uri": "https://localhost:8080/"
        },
        "id": "8FLZjucQTDl3",
        "outputId": "d84e17ef-f160-435f-e7d6-0632cafa6965"
      },
      "execution_count": 27,
      "outputs": [
        {
          "output_type": "stream",
          "name": "stdout",
          "text": [
            "[30 32 34 36 38 40]\n",
            "[-10 -10 -10 -10 -10 -10]\n",
            "[200 231 264 299 336 375]\n"
          ]
        }
      ]
    },
    {
      "cell_type": "code",
      "source": [
        "import numpy as np\n",
        "\n",
        "arr1 = np.array([10,20,30,40,50,60])\n",
        "arr2 = np.array([3,5,10,8,2,33])\n",
        "\n",
        "new4 = np.divide(arr1,arr2)\n",
        "new5 = np.power(arr1,arr2)\n",
        "new6 = np.mod(arr1,arr2)\n",
        "new7 = np.remainder(arr1,arr2)\n",
        "new8 = np.divmod(arr1,arr2)\n",
        "\n",
        "print(new4)\n",
        "print(\"-------***------\")\n",
        "print(new5)\n",
        "print(\"-------***------\")\n",
        "print(new6)\n",
        "print(\"-------***------\")\n",
        "print(new7)\n",
        "print(\"-------***------\")\n",
        "print(new8)"
      ],
      "metadata": {
        "colab": {
          "base_uri": "https://localhost:8080/"
        },
        "id": "0VMaQroSUAbq",
        "outputId": "45dc766c-35f4-44a3-8ecf-e1438d856ce0"
      },
      "execution_count": 28,
      "outputs": [
        {
          "output_type": "stream",
          "name": "stdout",
          "text": [
            "[ 3.33333333  4.          3.          5.         25.          1.81818182]\n",
            "-------***------\n",
            "[           1000         3200000 590490000000000   6553600000000\n",
            "            2500               0]\n",
            "-------***------\n",
            "[ 1  0  0  0  0 27]\n",
            "-------***------\n",
            "[ 1  0  0  0  0 27]\n",
            "-------***------\n",
            "(array([ 3,  4,  3,  5, 25,  1]), array([ 1,  0,  0,  0,  0, 27]))\n"
          ]
        }
      ]
    },
    {
      "cell_type": "code",
      "source": [
        "import numpy as np\n",
        "\n",
        "arr = np.array([-1,-2,1,2,3,-4])\n",
        "new9 = np.absolute(arr)\n",
        "\n",
        "print(new9)"
      ],
      "metadata": {
        "colab": {
          "base_uri": "https://localhost:8080/"
        },
        "id": "GaAE6gkXUxtR",
        "outputId": "cfb8c813-0add-437f-ef27-3d993631c1ac"
      },
      "execution_count": 29,
      "outputs": [
        {
          "output_type": "stream",
          "name": "stdout",
          "text": [
            "[1 2 1 2 3 4]\n"
          ]
        }
      ]
    },
    {
      "cell_type": "markdown",
      "source": [
        "# **Rounding Decimals**\n",
        "\n"
      ],
      "metadata": {
        "id": "P-Npi2N6VLef"
      }
    },
    {
      "cell_type": "markdown",
      "source": [
        "There are primarily five ways of rounding off decimals in NumPy:\n",
        "\n",
        "- truncation\n",
        "\n",
        "- fix\n",
        "\n",
        "- rounding\n",
        "\n",
        "- floor\n",
        "\n",
        "- ceil"
      ],
      "metadata": {
        "id": "XNbQg-9tVPRc"
      }
    },
    {
      "cell_type": "code",
      "source": [
        "import numpy as np\n",
        "\n",
        "arr1 = np.trunc([-3.1666,3.6667])\n",
        "arr2 = np.fix([-3.1666,3.6667])\n",
        "arr3 = np.around(3.1666,2)\n",
        "arr4 = np.floor([-3.1666,3.6667])\n",
        "arr5 = np.ceil([-3.1666,3.6667])\n",
        "\n",
        "print(arr1)\n",
        "print(\"-------***------\")\n",
        "print(arr2)\n",
        "print(\"-------***------\")\n",
        "print(arr3)\n",
        "print(\"-------***------\")\n",
        "print(arr4)\n",
        "print(\"-------***------\")\n",
        "print(arr5)"
      ],
      "metadata": {
        "colab": {
          "base_uri": "https://localhost:8080/"
        },
        "id": "rBCxLUOiVFQg",
        "outputId": "f325fb23-8966-4166-d7ef-5ef355d62840"
      },
      "execution_count": 30,
      "outputs": [
        {
          "output_type": "stream",
          "name": "stdout",
          "text": [
            "[-3.  3.]\n",
            "-------***------\n",
            "[-3.  3.]\n",
            "-------***------\n",
            "3.17\n",
            "-------***------\n",
            "[-4.  3.]\n",
            "-------***------\n",
            "[-3.  4.]\n"
          ]
        }
      ]
    }
  ]
}