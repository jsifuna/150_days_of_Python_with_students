{
  "nbformat": 4,
  "nbformat_minor": 0,
  "metadata": {
    "colab": {
      "provenance": []
    },
    "kernelspec": {
      "name": "python3",
      "display_name": "Python 3"
    },
    "language_info": {
      "name": "python"
    }
  },
  "cells": [
    {
      "cell_type": "markdown",
      "source": [
        "# **Python Numpy**\n",
        "By James Sifuna, PhD"
      ],
      "metadata": {
        "id": "fKSkd_9YG-_8"
      }
    },
    {
      "cell_type": "markdown",
      "source": [
        "# Numpy\n",
        "\n",
        "- Numpy is a python library.\n",
        "- It is used for working with arrays.\n",
        "- It is short for \"Numerical Python\"\n",
        "- It aims to provide an array object that is up to 50x faster than traditional Python lists."
      ],
      "metadata": {
        "id": "gSua10_yHC-s"
      }
    },
    {
      "cell_type": "code",
      "execution_count": 1,
      "metadata": {
        "colab": {
          "base_uri": "https://localhost:8080/"
        },
        "id": "VSyUb-AFG4fZ",
        "outputId": "a6677269-8e4e-4343-ffd5-07fc13f00cc2"
      },
      "outputs": [
        {
          "output_type": "stream",
          "name": "stdout",
          "text": [
            "[1 2 3 4 5]\n",
            "<class 'numpy.ndarray'>\n",
            "1.23.5\n"
          ]
        }
      ],
      "source": [
        "import numpy as np\n",
        "arr = np.array([1,2,3,4,5])\n",
        "\n",
        "print(arr)\n",
        "print(type(arr))\n",
        "print(np.__version__)"
      ]
    },
    {
      "cell_type": "code",
      "source": [
        "#Number of Dimensions\n",
        "import numpy as np\n",
        "\n",
        "a = np.array(42)\n",
        "b = np.array([1,2,3,4,5]) #1d- array\n",
        "c = np.array([[1,2,3],[4,5,6]]) #2d-array\n",
        "d = np.array([[[1,2,3],[4,5,6]],[[4,5,6],[1,2,3]]])\n",
        "\n",
        "print(a.ndim)\n",
        "print(b.ndim)\n",
        "print(c.ndim)\n",
        "print(d.ndim)"
      ],
      "metadata": {
        "colab": {
          "base_uri": "https://localhost:8080/"
        },
        "id": "ts20-LbuHvj3",
        "outputId": "d62c1908-2a07-4f5d-ea62-26a92b7237f7"
      },
      "execution_count": 2,
      "outputs": [
        {
          "output_type": "stream",
          "name": "stdout",
          "text": [
            "0\n",
            "1\n",
            "2\n",
            "3\n"
          ]
        }
      ]
    },
    {
      "cell_type": "markdown",
      "source": [
        "# **NumPy Array Slicing**"
      ],
      "metadata": {
        "id": "ubNXh6eEIiid"
      }
    },
    {
      "cell_type": "code",
      "source": [
        "import numpy as np\n",
        "arr = np.array([1,2,3,4,5,6,7])\n",
        "\n",
        "print(arr[1:5])"
      ],
      "metadata": {
        "colab": {
          "base_uri": "https://localhost:8080/"
        },
        "id": "reSc2e3xIg8z",
        "outputId": "a88ddb6f-f4dd-43ae-d815-73e65d23b299"
      },
      "execution_count": 3,
      "outputs": [
        {
          "output_type": "stream",
          "name": "stdout",
          "text": [
            "[2 3 4 5]\n"
          ]
        }
      ]
    },
    {
      "cell_type": "code",
      "source": [
        "print(arr[4:])"
      ],
      "metadata": {
        "colab": {
          "base_uri": "https://localhost:8080/"
        },
        "id": "2WdiyZ7pI25E",
        "outputId": "987ce1ac-cffb-4495-e350-4552684bad5e"
      },
      "execution_count": 4,
      "outputs": [
        {
          "output_type": "stream",
          "name": "stdout",
          "text": [
            "[5 6 7]\n"
          ]
        }
      ]
    },
    {
      "cell_type": "code",
      "source": [
        "print(arr[:4])"
      ],
      "metadata": {
        "colab": {
          "base_uri": "https://localhost:8080/"
        },
        "id": "JytAQFUPI5XU",
        "outputId": "ed4f7ada-940e-4866-fd59-853287d1854b"
      },
      "execution_count": 5,
      "outputs": [
        {
          "output_type": "stream",
          "name": "stdout",
          "text": [
            "[1 2 3 4]\n"
          ]
        }
      ]
    },
    {
      "cell_type": "code",
      "source": [
        "print(arr[-3:-1])"
      ],
      "metadata": {
        "colab": {
          "base_uri": "https://localhost:8080/"
        },
        "id": "s0eGPUDAI73r",
        "outputId": "a838cd86-7f2f-430a-a7ac-f671427bc274"
      },
      "execution_count": null,
      "outputs": [
        {
          "output_type": "stream",
          "name": "stdout",
          "text": [
            "[5 6]\n"
          ]
        }
      ]
    },
    {
      "cell_type": "code",
      "source": [
        "print(arr[1:5:2])"
      ],
      "metadata": {
        "colab": {
          "base_uri": "https://localhost:8080/"
        },
        "id": "JDLVMDC_I-tA",
        "outputId": "f7924b35-0467-4a9f-fe96-e69e3630cb75"
      },
      "execution_count": null,
      "outputs": [
        {
          "output_type": "stream",
          "name": "stdout",
          "text": [
            "[2 4]\n"
          ]
        }
      ]
    },
    {
      "cell_type": "code",
      "source": [
        "print(arr[::2])"
      ],
      "metadata": {
        "colab": {
          "base_uri": "https://localhost:8080/"
        },
        "id": "LZvEhlIFJBs8",
        "outputId": "5aa2ca66-d2ff-4aaf-b1d4-447d4e17a568"
      },
      "execution_count": null,
      "outputs": [
        {
          "output_type": "stream",
          "name": "stdout",
          "text": [
            "[1 3 5 7]\n"
          ]
        }
      ]
    },
    {
      "cell_type": "code",
      "source": [
        "print(arr[0:2])"
      ],
      "metadata": {
        "colab": {
          "base_uri": "https://localhost:8080/"
        },
        "id": "0oynBQJLJDpq",
        "outputId": "b09094d8-e7bf-45c2-fc0e-b8cff7cf0f93"
      },
      "execution_count": null,
      "outputs": [
        {
          "output_type": "stream",
          "name": "stdout",
          "text": [
            "[1 2]\n"
          ]
        }
      ]
    },
    {
      "cell_type": "markdown",
      "source": [
        "# **Numpy Array Copy vs view**"
      ],
      "metadata": {
        "id": "HX_Wj_xAJIaw"
      }
    },
    {
      "cell_type": "markdown",
      "source": [
        "The main difference between a copy and a view of an array is that the copy is a new array, and the view is just a view of the original array.\n",
        "\n",
        "- The copy SHOULD NOT be affected by the changes made to the original array.\n",
        "\n",
        "- The view SHOULD be affected by the changes made to the original array."
      ],
      "metadata": {
        "id": "FZnR4lGrJP7f"
      }
    },
    {
      "cell_type": "code",
      "source": [
        "import numpy as np\n",
        "\n",
        "arr = np.array([1,2,3,4,5])\n",
        "x = arr.copy()\n",
        "arr[0] = 42\n",
        "\n",
        "print(arr)\n",
        "print(x)"
      ],
      "metadata": {
        "colab": {
          "base_uri": "https://localhost:8080/"
        },
        "id": "VOZzBNgIJFwo",
        "outputId": "6cc95fd5-0c01-48d4-9b5f-5a150a9bf457"
      },
      "execution_count": 6,
      "outputs": [
        {
          "output_type": "stream",
          "name": "stdout",
          "text": [
            "[42  2  3  4  5]\n",
            "[1 2 3 4 5]\n"
          ]
        }
      ]
    },
    {
      "cell_type": "code",
      "source": [
        "import numpy as np\n",
        "\n",
        "arr = np.array([1,2,3,4,5])\n",
        "x = arr.view()\n",
        "arr[0] = 42\n",
        "\n",
        "print(arr)\n",
        "print(x)"
      ],
      "metadata": {
        "colab": {
          "base_uri": "https://localhost:8080/"
        },
        "id": "KME5GuMUJ_1y",
        "outputId": "0887dff8-f3ca-4840-df91-04b7a15b31ad"
      },
      "execution_count": 7,
      "outputs": [
        {
          "output_type": "stream",
          "name": "stdout",
          "text": [
            "[42  2  3  4  5]\n",
            "[42  2  3  4  5]\n"
          ]
        }
      ]
    },
    {
      "cell_type": "code",
      "source": [
        "import numpy as np\n",
        "arr = np.array([1,2,3,4,5])\n",
        "x = arr.view()\n",
        "x[0] = 31\n",
        "print(arr)\n",
        "print(x)"
      ],
      "metadata": {
        "colab": {
          "base_uri": "https://localhost:8080/"
        },
        "id": "L0phVCQ0KIH6",
        "outputId": "d4b5d6fb-804e-4e81-c9c9-b4a58219eb8e"
      },
      "execution_count": 8,
      "outputs": [
        {
          "output_type": "stream",
          "name": "stdout",
          "text": [
            "[31  2  3  4  5]\n",
            "[31  2  3  4  5]\n"
          ]
        }
      ]
    },
    {
      "cell_type": "markdown",
      "source": [
        "# Joining Numpy Arrays"
      ],
      "metadata": {
        "id": "JPzYGdIVKqXp"
      }
    },
    {
      "cell_type": "code",
      "source": [
        "import numpy as np\n",
        "\n",
        "arr1 = np.array([1,2,3])\n",
        "arr2 = np.array([4,5,6])\n",
        "arr = np.concatenate((arr1,arr2))\n",
        "arr6 = np.stack((arr1,arr2), axis = 1)\n",
        "arr7 = np.hstack((arr1,arr2))\n",
        "arr8 = np.vstack((arr1,arr2))\n",
        "arr9 = np.dstack((arr1,arr2))\n",
        "\n",
        "print(arr)\n",
        "\n",
        "print(\"----------*********-----------\")\n",
        "\n",
        "print(arr6)\n",
        "\n",
        "print(\"----------**********-----------\")\n",
        "\n",
        "print(arr7)\n",
        "\n",
        "print(\"----------**********------------\")\n",
        "\n",
        "print(arr8)\n",
        "\n",
        "print(\"----------**********-----------\")\n",
        "\n",
        "print(arr9)"
      ],
      "metadata": {
        "colab": {
          "base_uri": "https://localhost:8080/"
        },
        "id": "UVt7P9jqKXKI",
        "outputId": "58efd98a-0b17-41ec-9ef2-0c96057decd2"
      },
      "execution_count": 9,
      "outputs": [
        {
          "output_type": "stream",
          "name": "stdout",
          "text": [
            "[1 2 3 4 5 6]\n",
            "----------*********-----------\n",
            "[[1 4]\n",
            " [2 5]\n",
            " [3 6]]\n",
            "----------**********-----------\n",
            "[1 2 3 4 5 6]\n",
            "----------**********------------\n",
            "[[1 2 3]\n",
            " [4 5 6]]\n",
            "----------**********-----------\n",
            "[[[1 4]\n",
            "  [2 5]\n",
            "  [3 6]]]\n"
          ]
        }
      ]
    },
    {
      "cell_type": "markdown",
      "source": [
        "# Searching Arrays"
      ],
      "metadata": {
        "id": "OF-A9_bqKYoN"
      }
    },
    {
      "cell_type": "code",
      "source": [
        "import numpy as np\n",
        "\n",
        "arr = np.array([1,2,3,4,5,6,7,8])\n",
        "\n",
        "x1 = np.where(arr == 4) #To search an array, use the where() method\n",
        "x2 = np.where(arr%2==0) #find the indexes where the values are even\n",
        "x3 = np.where(arr%2==1) #find the indexes where the values are odd\n",
        "x4 = np.searchsorted(arr,6) #the searchsorted() method is assumed to be used on sorted arrays.Find the indexes where the value 6 should be inserted.\n",
        "\n",
        "print(x1)\n",
        "print(x2)\n",
        "print(x3)\n",
        "print(x4)"
      ],
      "metadata": {
        "colab": {
          "base_uri": "https://localhost:8080/"
        },
        "id": "NGeZMkTKKRc6",
        "outputId": "9438f4f1-c2af-4e5b-b79b-d75ef99dd915"
      },
      "execution_count": 10,
      "outputs": [
        {
          "output_type": "stream",
          "name": "stdout",
          "text": [
            "(array([3]),)\n",
            "(array([1, 3, 5, 7]),)\n",
            "(array([0, 2, 4, 6]),)\n",
            "5\n"
          ]
        }
      ]
    },
    {
      "cell_type": "markdown",
      "source": [
        "# Sorting Arrays"
      ],
      "metadata": {
        "id": "Brsis0JULmZg"
      }
    },
    {
      "cell_type": "markdown",
      "source": [
        "sorting means putting elements in an ordered sequence."
      ],
      "metadata": {
        "id": "b5Fx4OIPLqGJ"
      }
    },
    {
      "cell_type": "code",
      "source": [
        "import numpy as np\n",
        "\n",
        "arr1 = np.array([3,2,0,1])\n",
        "arr2 = np.array([[3,2,4],[5,0,1]])\n",
        "arr3 = np.array(['banana','cherry','apple'])\n",
        "arr4 = np.array([True,False,True])\n",
        "\n",
        "print(np.sort(arr1))\n",
        "print(np.sort(arr2))\n",
        "print(np.sort(arr3))\n",
        "print(np.sort(arr4))"
      ],
      "metadata": {
        "colab": {
          "base_uri": "https://localhost:8080/"
        },
        "id": "2jTlM6mxLV-7",
        "outputId": "a5e04b37-3d60-4cf2-99c3-f72527137a23"
      },
      "execution_count": 11,
      "outputs": [
        {
          "output_type": "stream",
          "name": "stdout",
          "text": [
            "[0 1 2 3]\n",
            "[[2 3 4]\n",
            " [0 1 5]]\n",
            "['apple' 'banana' 'cherry']\n",
            "[False  True  True]\n"
          ]
        }
      ]
    }
  ]
}