{
  "nbformat": 4,
  "nbformat_minor": 0,
  "metadata": {
    "colab": {
      "provenance": []
    },
    "kernelspec": {
      "name": "python3",
      "display_name": "Python 3"
    },
    "language_info": {
      "name": "python"
    }
  },
  "cells": [
    {
      "cell_type": "markdown",
      "source": [
        "# Lists in Python\n",
        "## By James Sifuna, Ph.D\n",
        "Let's discuss Lists in Python. List items are `ordered`, `changeable`, and allow `duplicate` values. Lists are written within square brackets.\n"
      ],
      "metadata": {
        "id": "Vq-u6-0ZHjxQ"
      }
    },
    {
      "cell_type": "code",
      "source": [
        "fruits = [\"apple\",\"banana\",\"cherry\"]\n",
        "print(fruits)"
      ],
      "metadata": {
        "colab": {
          "base_uri": "https://localhost:8080/"
        },
        "id": "UngJTqZxI02C",
        "outputId": "b54c07a8-3059-4595-dc4a-d5d23e951a00"
      },
      "execution_count": 1,
      "outputs": [
        {
          "output_type": "stream",
          "name": "stdout",
          "text": [
            "['apple', 'banana', 'cherry']\n"
          ]
        }
      ]
    },
    {
      "cell_type": "markdown",
      "source": [
        "We can also print the length of a data type in python using `len`, while `type` will tell you the nature of the data you are dealing with. i.e `list`, `tuple` or `dictionary`."
      ],
      "metadata": {
        "id": "0VdyGnyIJCYx"
      }
    },
    {
      "cell_type": "code",
      "source": [
        "print(len(fruits))\n",
        "print(type(fruits))"
      ],
      "metadata": {
        "colab": {
          "base_uri": "https://localhost:8080/"
        },
        "id": "V3pnCTShI-OU",
        "outputId": "b229857f-c507-4c40-eede-124b96ced5a6"
      },
      "execution_count": 2,
      "outputs": [
        {
          "output_type": "stream",
          "name": "stdout",
          "text": [
            "3\n",
            "<class 'list'>\n"
          ]
        }
      ]
    },
    {
      "cell_type": "markdown",
      "source": [
        "Python counts items from `zero`. So if you want to play with the fruits list above then `apple` is `0`, while `banana` is `1` and `cherry` is `2`."
      ],
      "metadata": {
        "id": "KM0txoUYJoqa"
      }
    },
    {
      "cell_type": "code",
      "source": [
        "print(fruits[-1])\n",
        "print(fruits[1:2])\n",
        "print(fruits[1:])\n",
        ""
      ],
      "metadata": {
        "colab": {
          "base_uri": "https://localhost:8080/"
        },
        "id": "QtMuI2V1J6hg",
        "outputId": "067c49db-792c-40bf-bf79-bf889ffc9a7c"
      },
      "execution_count": 3,
      "outputs": [
        {
          "output_type": "stream",
          "name": "stdout",
          "text": [
            "cherry\n",
            "['banana']\n",
            "['banana', 'cherry']\n"
          ]
        }
      ]
    },
    {
      "cell_type": "markdown",
      "source": [
        "We can also use if statements in python. like below."
      ],
      "metadata": {
        "id": "bsAzepUXKLFA"
      }
    },
    {
      "cell_type": "code",
      "source": [
        "if \"apple\" in fruits:\n",
        "  print(\"yes,'apple' is in the fruits list\")"
      ],
      "metadata": {
        "colab": {
          "base_uri": "https://localhost:8080/"
        },
        "id": "zGvCjqSLKI08",
        "outputId": "301a182d-a17f-41a5-b401-0a694f26c3f4"
      },
      "execution_count": 4,
      "outputs": [
        {
          "output_type": "stream",
          "name": "stdout",
          "text": [
            "yes,'apple' is in the fruits list\n"
          ]
        }
      ]
    },
    {
      "cell_type": "markdown",
      "source": [
        "# Adding items in an existing list.\n",
        "On this, we either append, insert or extend. It is a trivial procedure to do that.\n",
        "What I want us to learn is how and when to use the `key` words, `extend`, `append` and `insert`."
      ],
      "metadata": {
        "id": "o9sZMnWuKjts"
      }
    },
    {
      "cell_type": "code",
      "source": [
        "# Now, let us try inserting \"watermelon\" as the third item:\n",
        "fruits.insert(2,\"watermelon\")\n",
        "print(fruits)"
      ],
      "metadata": {
        "colab": {
          "base_uri": "https://localhost:8080/"
        },
        "id": "mCa54bWCK83O",
        "outputId": "24eaaf62-fb2e-45a4-9ce0-7d317e5ba1d7"
      },
      "execution_count": 5,
      "outputs": [
        {
          "output_type": "stream",
          "name": "stdout",
          "text": [
            "['apple', 'banana', 'watermelon', 'cherry']\n"
          ]
        }
      ]
    },
    {
      "cell_type": "code",
      "source": [
        "# What if we append? append means we add the items\n",
        "fruits.append(\"orange\")\n",
        "print(fruits)"
      ],
      "metadata": {
        "colab": {
          "base_uri": "https://localhost:8080/"
        },
        "id": "f3H2jbndLF0P",
        "outputId": "67846992-0d13-4b92-beb4-7fe079bf7ccf"
      },
      "execution_count": 7,
      "outputs": [
        {
          "output_type": "stream",
          "name": "stdout",
          "text": [
            "['apple', 'banana', 'watermelon', 'cherry', 'orange', 'orange']\n"
          ]
        }
      ]
    },
    {
      "cell_type": "code",
      "source": [
        "#add the elements of tropical to this list so that i lengthen it:\n",
        "fruits = [\"apple\",\"banana\",\"cherry\"]\n",
        "fruits2 = [\"mango\",\"pineapple\",\"papaya\"]\n",
        "fruits.extend(fruits2)\n",
        "print(fruits)"
      ],
      "metadata": {
        "colab": {
          "base_uri": "https://localhost:8080/"
        },
        "id": "UAV3VhafLgV2",
        "outputId": "38779bd7-0214-4853-cd4a-424700fb9856"
      },
      "execution_count": 8,
      "outputs": [
        {
          "output_type": "stream",
          "name": "stdout",
          "text": [
            "['apple', 'banana', 'cherry', 'mango', 'pineapple', 'papaya']\n"
          ]
        }
      ]
    },
    {
      "cell_type": "code",
      "source": [
        "fruits = [\"apple\",\"banana\",\"cherry\"]\n",
        "fruits2 = [\"kiwi\",\"orange\"]\n",
        "fruits.extend(fruits2)\n",
        "print(fruits)"
      ],
      "metadata": {
        "colab": {
          "base_uri": "https://localhost:8080/"
        },
        "id": "7mVD1RNsL3IG",
        "outputId": "ac0358f0-e733-4d77-ac3f-59177503fdf0"
      },
      "execution_count": 9,
      "outputs": [
        {
          "output_type": "stream",
          "name": "stdout",
          "text": [
            "['apple', 'banana', 'cherry', 'kiwi', 'orange']\n"
          ]
        }
      ]
    },
    {
      "cell_type": "markdown",
      "source": [
        "# Let us now try removing an item(s) on a given list\n",
        "That should not be a hustle for sure. It is straight too.\n",
        "remove(): it removes the specified item. pop(): it removes the specified index. del: it removes the specified index also it can delete the list completely. clear():List remains, but has no content empties the list.\n",
        "What I want us to learn is how to use the `key` words `remove`, `pop`, `del`, and `clear`."
      ],
      "metadata": {
        "id": "TTeERPcdL-XR"
      }
    },
    {
      "cell_type": "code",
      "source": [
        "fruits = [\"apple\", \"banana\", \"cherry\", \"banana\", \"kiwi\"]\n",
        "fruits.remove(\"banana\")\n",
        "print(fruits)"
      ],
      "metadata": {
        "colab": {
          "base_uri": "https://localhost:8080/"
        },
        "id": "z-Jh3dXNNI4v",
        "outputId": "544a4d35-b093-4307-c027-b6d8a02dbe38"
      },
      "execution_count": 10,
      "outputs": [
        {
          "output_type": "stream",
          "name": "stdout",
          "text": [
            "['apple', 'cherry', 'banana', 'kiwi']\n"
          ]
        }
      ]
    },
    {
      "cell_type": "code",
      "source": [
        "fruits = [\"apple\", \"banana\", \"cherry\"]\n",
        "fruits.pop(1)\n",
        "print(fruits)"
      ],
      "metadata": {
        "colab": {
          "base_uri": "https://localhost:8080/"
        },
        "id": "-nfroOE7NQag",
        "outputId": "2155b530-39f1-4791-f04d-5bd6d1e2159c"
      },
      "execution_count": 11,
      "outputs": [
        {
          "output_type": "stream",
          "name": "stdout",
          "text": [
            "['apple', 'cherry']\n"
          ]
        }
      ]
    },
    {
      "cell_type": "code",
      "source": [
        "fruits = [\"apple\", \"banana\", \"cherry\"]\n",
        "del fruits[0]\n",
        "print(fruits)"
      ],
      "metadata": {
        "colab": {
          "base_uri": "https://localhost:8080/"
        },
        "id": "EPjH8A1XNXFg",
        "outputId": "5f8c5c26-0a84-45ff-b9d2-4cc0168cd32a"
      },
      "execution_count": 12,
      "outputs": [
        {
          "output_type": "stream",
          "name": "stdout",
          "text": [
            "['banana', 'cherry']\n"
          ]
        }
      ]
    },
    {
      "cell_type": "code",
      "source": [
        "# This is abit crude and always be keen with this because the print function won't give anything.\n",
        "fruits = [\"apple\", \"banana\", \"cherry\"]\n",
        "fruits.clear()\n",
        "print(fruits)"
      ],
      "metadata": {
        "colab": {
          "base_uri": "https://localhost:8080/"
        },
        "id": "tDFJLElfNe0v",
        "outputId": "a2eecca6-a5ef-43c6-e853-9652c51a8ec4"
      },
      "execution_count": 13,
      "outputs": [
        {
          "output_type": "stream",
          "name": "stdout",
          "text": [
            "[]\n"
          ]
        }
      ]
    },
    {
      "cell_type": "markdown",
      "source": [
        "# Python also allows us to sort lists\n",
        "sort() : To sort descending, use the keyword argument reverse = True\n",
        "\n",
        "reverse(): This method reverses the current sorting order of the elements."
      ],
      "metadata": {
        "id": "rR0LW_h9NvUD"
      }
    },
    {
      "cell_type": "code",
      "source": [
        "fruits = [\"orange\", \"mango\", \"kiwi\", \"pineapple\", \"banana\"]\n",
        "fruits.sort()\n",
        "print(fruits)\n",
        ""
      ],
      "metadata": {
        "colab": {
          "base_uri": "https://localhost:8080/"
        },
        "id": "7o0U-aAqOCzq",
        "outputId": "09299892-0b3b-4324-daa2-9621c3f74ba6"
      },
      "execution_count": 14,
      "outputs": [
        {
          "output_type": "stream",
          "name": "stdout",
          "text": [
            "['banana', 'kiwi', 'mango', 'orange', 'pineapple']\n"
          ]
        }
      ]
    },
    {
      "cell_type": "code",
      "source": [
        "fruits = [\"orange\", \"mango\", \"kiwi\", \"pineapple\", \"banana\"]\n",
        "fruits.sort(reverse=True)\n",
        "print(fruits)"
      ],
      "metadata": {
        "colab": {
          "base_uri": "https://localhost:8080/"
        },
        "id": "W5gSIhpxOKGD",
        "outputId": "94c512ce-d6b5-41cc-816b-9008b2e5f8db"
      },
      "execution_count": 15,
      "outputs": [
        {
          "output_type": "stream",
          "name": "stdout",
          "text": [
            "['pineapple', 'orange', 'mango', 'kiwi', 'banana']\n"
          ]
        }
      ]
    },
    {
      "cell_type": "code",
      "source": [
        "fruits = [\"banana\", \"Orange\", \"Kiwi\", \"cherry\"]\n",
        "fruits.reverse()\n",
        "print(fruits)"
      ],
      "metadata": {
        "colab": {
          "base_uri": "https://localhost:8080/"
        },
        "id": "u6Xmn_w-OT3f",
        "outputId": "ce239702-741e-4ea6-8008-8ae906535032"
      },
      "execution_count": 16,
      "outputs": [
        {
          "output_type": "stream",
          "name": "stdout",
          "text": [
            "['cherry', 'Kiwi', 'Orange', 'banana']\n"
          ]
        }
      ]
    },
    {
      "cell_type": "markdown",
      "source": [
        "# In python, it is also possible to join two or more lists\n",
        "   *  using + operator\n",
        "   *  Append list2 into list1: use the extend() method to add list2 at the end of list1.\n",
        "\n"
      ],
      "metadata": {
        "id": "KvZ52sCmOYqx"
      }
    },
    {
      "cell_type": "code",
      "source": [
        "list1 = [\"a\", \"b\", \"c\"]\n",
        "list2 = [1, 2, 3]\n",
        "list3 = list1 + list2\n",
        "print(list3)"
      ],
      "metadata": {
        "colab": {
          "base_uri": "https://localhost:8080/"
        },
        "id": "q-Ps56g9OqLy",
        "outputId": "62e8f818-d277-4dfb-887a-0f91f079fa90"
      },
      "execution_count": 17,
      "outputs": [
        {
          "output_type": "stream",
          "name": "stdout",
          "text": [
            "['a', 'b', 'c', 1, 2, 3]\n"
          ]
        }
      ]
    },
    {
      "cell_type": "code",
      "source": [
        "list1 = [\"a\", \"b\", \"c\"]\n",
        "list2 = [1, 2, 3]\n",
        "\n",
        "for x in list2:\n",
        "  list1.append(x)\n",
        "\n",
        "print(list1)\n",
        ""
      ],
      "metadata": {
        "colab": {
          "base_uri": "https://localhost:8080/"
        },
        "id": "APvf7Ja_O1Qu",
        "outputId": "acc6fe2f-0905-4427-c800-20a4d0cf19a3"
      },
      "execution_count": 18,
      "outputs": [
        {
          "output_type": "stream",
          "name": "stdout",
          "text": [
            "['a', 'b', 'c', 1, 2, 3]\n"
          ]
        }
      ]
    },
    {
      "cell_type": "markdown",
      "source": [
        "# We can also copy lists in Python"
      ],
      "metadata": {
        "id": "hudInjSeO89I"
      }
    },
    {
      "cell_type": "code",
      "source": [
        "fruits = [\"apple\", \"banana\", \"cherry\"]\n",
        "Newlist = fruits.copy()\n",
        "print(Newlist)"
      ],
      "metadata": {
        "colab": {
          "base_uri": "https://localhost:8080/"
        },
        "id": "qI8wI-ZNPEmr",
        "outputId": "fa4412aa-8109-4857-fd52-71b715c42a68"
      },
      "execution_count": 19,
      "outputs": [
        {
          "output_type": "stream",
          "name": "stdout",
          "text": [
            "['apple', 'banana', 'cherry']\n"
          ]
        }
      ]
    },
    {
      "cell_type": "code",
      "source": [
        "fruits = [\"apple\", \"banana\", \"cherry\"]\n",
        "Newlist = list(fruits)\n",
        "print(Newlist)"
      ],
      "metadata": {
        "colab": {
          "base_uri": "https://localhost:8080/"
        },
        "id": "7NOSzY9UPLCC",
        "outputId": "4ecde4c8-3b4a-4019-fc4a-1fe778f5e9b1"
      },
      "execution_count": 20,
      "outputs": [
        {
          "output_type": "stream",
          "name": "stdout",
          "text": [
            "['apple', 'banana', 'cherry']\n"
          ]
        }
      ]
    }
  ]
}