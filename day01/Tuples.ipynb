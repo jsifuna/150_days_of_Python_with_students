{
  "nbformat": 4,
  "nbformat_minor": 0,
  "metadata": {
    "colab": {
      "provenance": []
    },
    "kernelspec": {
      "name": "python3",
      "display_name": "Python 3"
    },
    "language_info": {
      "name": "python"
    }
  },
  "cells": [
    {
      "cell_type": "markdown",
      "source": [
        "\n",
        "# **Python Tuples**\n",
        "By James Sifuna, PhD"
      ],
      "metadata": {
        "id": "VruFbBy8YFCD"
      }
    },
    {
      "cell_type": "markdown",
      "source": [
        "- Immutable: Once a tuple is created, you cannot change its content. This means you cannot add, change, or remove items after the tuple has been created.\n",
        "\n",
        "- Ordered: The items in a tuple have a defined order that will not change. That means, if you add new items to a tuple, the new items will be added at the end of the Tuple.\n",
        "\n",
        "- Allow Duplicates: Since tuples are indexed, they can have items with the same value1.\n",
        "\n",
        "- Tuples are written with round brackets.()."
      ],
      "metadata": {
        "id": "ufjyVv_qYKg7"
      }
    },
    {
      "cell_type": "code",
      "execution_count": 1,
      "metadata": {
        "colab": {
          "base_uri": "https://localhost:8080/"
        },
        "id": "otiZJGfXl5qb",
        "outputId": "69598dab-561d-4679-8540-eac37dfd0fda"
      },
      "outputs": [
        {
          "output_type": "stream",
          "name": "stdout",
          "text": [
            "('apple', 'banana', 'cherry', 'apple', 'cherry')\n",
            "5\n"
          ]
        }
      ],
      "source": [
        "fruits = (\"apple\", \"banana\", \"cherry\", \"apple\", \"cherry\")\n",
        "print(fruits)\n",
        "print(len(fruits))"
      ]
    },
    {
      "cell_type": "code",
      "source": [
        "print(type(fruits))"
      ],
      "metadata": {
        "colab": {
          "base_uri": "https://localhost:8080/"
        },
        "id": "_N5aupSfYpp2",
        "outputId": "4c7cb87c-269a-44bf-9106-bb77127e8ab5"
      },
      "execution_count": 2,
      "outputs": [
        {
          "output_type": "stream",
          "name": "stdout",
          "text": [
            "<class 'tuple'>\n"
          ]
        }
      ]
    },
    {
      "cell_type": "code",
      "source": [
        "fruits = tuple((\"apple\", \"banana\", \"cherry\")) # note the double round-brackets\n",
        "print(fruits)"
      ],
      "metadata": {
        "colab": {
          "base_uri": "https://localhost:8080/"
        },
        "id": "Libtrv5QYtLj",
        "outputId": "23a58197-b3e0-4970-b131-5bd1e0a52b36"
      },
      "execution_count": 3,
      "outputs": [
        {
          "output_type": "stream",
          "name": "stdout",
          "text": [
            "('apple', 'banana', 'cherry')\n"
          ]
        }
      ]
    },
    {
      "cell_type": "markdown",
      "source": [
        "# **Access Tuple Items**"
      ],
      "metadata": {
        "id": "W0U8H6skY2P7"
      }
    },
    {
      "cell_type": "code",
      "source": [
        "fruits = (\"apple\", \"banana\", \"cherry\", \"orange\", \"kiwi\", \"melon\", \"mango\")\n",
        "print(fruits[1])"
      ],
      "metadata": {
        "colab": {
          "base_uri": "https://localhost:8080/"
        },
        "id": "XEPJgsCvYyIe",
        "outputId": "b41bba69-62ad-484e-a873-4468bad4b074"
      },
      "execution_count": 4,
      "outputs": [
        {
          "output_type": "stream",
          "name": "stdout",
          "text": [
            "banana\n"
          ]
        }
      ]
    },
    {
      "cell_type": "code",
      "source": [
        "print(fruits[-1])"
      ],
      "metadata": {
        "colab": {
          "base_uri": "https://localhost:8080/"
        },
        "id": "xmUBdTh4ZB3s",
        "outputId": "0d648256-00be-4db1-b9f4-ec0022c81bf3"
      },
      "execution_count": 5,
      "outputs": [
        {
          "output_type": "stream",
          "name": "stdout",
          "text": [
            "mango\n"
          ]
        }
      ]
    },
    {
      "cell_type": "code",
      "source": [
        "print(fruits[2:5])"
      ],
      "metadata": {
        "colab": {
          "base_uri": "https://localhost:8080/"
        },
        "id": "kTQfMSNlZNau",
        "outputId": "d1724b14-6386-4868-f173-51d989ece365"
      },
      "execution_count": 6,
      "outputs": [
        {
          "output_type": "stream",
          "name": "stdout",
          "text": [
            "('cherry', 'orange', 'kiwi')\n"
          ]
        }
      ]
    },
    {
      "cell_type": "code",
      "source": [
        "print(fruits[:4])"
      ],
      "metadata": {
        "colab": {
          "base_uri": "https://localhost:8080/"
        },
        "id": "Pga9lWkDadew",
        "outputId": "8188abc2-b657-4092-d487-79114e01c95f"
      },
      "execution_count": 7,
      "outputs": [
        {
          "output_type": "stream",
          "name": "stdout",
          "text": [
            "('apple', 'banana', 'cherry', 'orange')\n"
          ]
        }
      ]
    },
    {
      "cell_type": "code",
      "source": [
        "print(fruits[2:])"
      ],
      "metadata": {
        "colab": {
          "base_uri": "https://localhost:8080/"
        },
        "id": "UEOmk-9NahYV",
        "outputId": "d64ec237-c0ba-41bf-eece-f0f51d1703c7"
      },
      "execution_count": 8,
      "outputs": [
        {
          "output_type": "stream",
          "name": "stdout",
          "text": [
            "('cherry', 'orange', 'kiwi', 'melon', 'mango')\n"
          ]
        }
      ]
    },
    {
      "cell_type": "code",
      "source": [
        "print(fruits[-4:-1])"
      ],
      "metadata": {
        "colab": {
          "base_uri": "https://localhost:8080/"
        },
        "id": "9l_I2CqnalDC",
        "outputId": "94515244-e50a-4d08-9774-4bfb640eb9e4"
      },
      "execution_count": 9,
      "outputs": [
        {
          "output_type": "stream",
          "name": "stdout",
          "text": [
            "('orange', 'kiwi', 'melon')\n"
          ]
        }
      ]
    },
    {
      "cell_type": "markdown",
      "source": [
        "# **Update Tuples**"
      ],
      "metadata": {
        "id": "qGG8Q05Narf0"
      }
    },
    {
      "cell_type": "markdown",
      "source": [
        "As Tuples values cannot be changed , so we can convert the tuple into a list, change the list, and convert the list back into a tuple."
      ],
      "metadata": {
        "id": "JJLx46hVavmo"
      }
    },
    {
      "cell_type": "code",
      "source": [
        "fruits = (\"apple\", \"banana\", \"cherry\")\n",
        "y = list(fruits)"
      ],
      "metadata": {
        "id": "EiVSntPGaqG1"
      },
      "execution_count": 10,
      "outputs": []
    },
    {
      "cell_type": "code",
      "source": [
        "y.append(\"orange\")\n",
        "fruits = tuple(y)"
      ],
      "metadata": {
        "id": "HqrdkFCba_uD"
      },
      "execution_count": 11,
      "outputs": []
    },
    {
      "cell_type": "code",
      "source": [
        "print(fruits)"
      ],
      "metadata": {
        "colab": {
          "base_uri": "https://localhost:8080/"
        },
        "id": "a4jn4Nc0bEkn",
        "outputId": "a2145e69-8dd9-456e-aa74-1c38dede2db8"
      },
      "execution_count": 12,
      "outputs": [
        {
          "output_type": "stream",
          "name": "stdout",
          "text": [
            "('apple', 'banana', 'cherry', 'orange')\n"
          ]
        }
      ]
    },
    {
      "cell_type": "code",
      "source": [
        "#Convert the tuple into a list, remove \"apple\", and convert it back into a tuple:\n",
        "fruits = (\"apple\", \"banana\", \"cherry\")\n",
        "y = list(fruits)\n",
        "y.remove(\"apple\")\n",
        "fruits = tuple(y)\n",
        "print(fruits)"
      ],
      "metadata": {
        "colab": {
          "base_uri": "https://localhost:8080/"
        },
        "id": "3cXeB_eHbGMj",
        "outputId": "90051213-2b97-49e3-d32e-b5468b437e46"
      },
      "execution_count": 13,
      "outputs": [
        {
          "output_type": "stream",
          "name": "stdout",
          "text": [
            "('banana', 'cherry')\n"
          ]
        }
      ]
    },
    {
      "cell_type": "code",
      "source": [
        "fruits = (\"apple\", \"banana\", \"cherry\")\n",
        "del fruits"
      ],
      "metadata": {
        "id": "JVYsj68jbRcW"
      },
      "execution_count": 14,
      "outputs": []
    },
    {
      "cell_type": "markdown",
      "source": [
        "# **Unpack tuples**"
      ],
      "metadata": {
        "id": "rlVhG9y7bbjW"
      }
    },
    {
      "cell_type": "markdown",
      "source": [
        "Unpacking tuples in Python is a way to extract the values from a tuple into separate variables.\n",
        "\n",
        "assigning the value is \"packing\" and extracting the value is \"unpacking\" in python."
      ],
      "metadata": {
        "id": "dG_H3_9obe2H"
      }
    },
    {
      "cell_type": "code",
      "source": [
        "#unpacking using Asterisk(*)\n",
        "fruits = (\"apple\", \"banana\", \"cherry\", \"strawberry\", \"raspberry\")\n",
        "\n",
        "(green, yellow, *red) = fruits\n",
        "\n",
        "print(green)"
      ],
      "metadata": {
        "colab": {
          "base_uri": "https://localhost:8080/"
        },
        "id": "ZVJ3IuRgbUlG",
        "outputId": "a544e5b7-3239-44c6-bfc4-920ddfcd611d"
      },
      "execution_count": 15,
      "outputs": [
        {
          "output_type": "stream",
          "name": "stdout",
          "text": [
            "apple\n"
          ]
        }
      ]
    },
    {
      "cell_type": "code",
      "source": [
        "print(yellow)"
      ],
      "metadata": {
        "colab": {
          "base_uri": "https://localhost:8080/"
        },
        "id": "Ry3tjfSbnam5",
        "outputId": "6aded359-2fb1-4d12-bb14-9f7614265303"
      },
      "execution_count": 16,
      "outputs": [
        {
          "output_type": "stream",
          "name": "stdout",
          "text": [
            "banana\n"
          ]
        }
      ]
    },
    {
      "cell_type": "code",
      "source": [
        "print(red)"
      ],
      "metadata": {
        "colab": {
          "base_uri": "https://localhost:8080/"
        },
        "id": "St1dFL_fndKs",
        "outputId": "26c1f4d9-a3c5-44b1-8785-d12b4c0f6df6"
      },
      "execution_count": 17,
      "outputs": [
        {
          "output_type": "stream",
          "name": "stdout",
          "text": [
            "['cherry', 'strawberry', 'raspberry']\n"
          ]
        }
      ]
    },
    {
      "cell_type": "markdown",
      "source": [
        "# **Loop Tuples**"
      ],
      "metadata": {
        "id": "KzFCw5D1nfWP"
      }
    },
    {
      "cell_type": "markdown",
      "source": [
        "Printing items using for loop and while loop."
      ],
      "metadata": {
        "id": "irYyg-GNnmI4"
      }
    },
    {
      "cell_type": "code",
      "source": [
        "fruits = (\"apple\", \"banana\", \"cherry\")\n",
        "for i in range(len(fruits)):\n",
        "  print(fruits[i])"
      ],
      "metadata": {
        "colab": {
          "base_uri": "https://localhost:8080/"
        },
        "id": "tkWCT8w9neUU",
        "outputId": "7247df6e-d31c-48e7-83d9-5e3d30acd27f"
      },
      "execution_count": 18,
      "outputs": [
        {
          "output_type": "stream",
          "name": "stdout",
          "text": [
            "apple\n",
            "banana\n",
            "cherry\n"
          ]
        }
      ]
    },
    {
      "cell_type": "code",
      "source": [
        "fruits = (\"apple\", \"banana\", \"cherry\")\n",
        "i =0\n",
        "while i < len(fruits):\n",
        "  print(fruits[i])\n",
        "  i = i + 1"
      ],
      "metadata": {
        "colab": {
          "base_uri": "https://localhost:8080/"
        },
        "id": "LcmFIdRBnynJ",
        "outputId": "f1133763-00f6-42b2-d1d7-16de00abf870"
      },
      "execution_count": 19,
      "outputs": [
        {
          "output_type": "stream",
          "name": "stdout",
          "text": [
            "apple\n",
            "banana\n",
            "cherry\n"
          ]
        }
      ]
    }
  ]
}