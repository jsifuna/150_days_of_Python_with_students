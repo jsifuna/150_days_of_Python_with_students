{
  "nbformat": 4,
  "nbformat_minor": 0,
  "metadata": {
    "colab": {
      "provenance": [],
      "authorship_tag": "ABX9TyPbS1AEgeGcKyHOvZo+lOQp"
    },
    "kernelspec": {
      "name": "python3",
      "display_name": "Python 3"
    },
    "language_info": {
      "name": "python"
    }
  },
  "cells": [
    {
      "cell_type": "markdown",
      "source": [
        "# Introduction to Python:\n",
        "## James Sifuna, Ph.D (TU-K/UNICAN)\n",
        "In this 150 days challange, I will take you through a step by step hands on tutorial on Python.\n",
        "Python is a programming language that lets you work quickly and integrate systems more effectively"
      ],
      "metadata": {
        "id": "xTNQR7u8Sa56"
      }
    },
    {
      "cell_type": "markdown",
      "source": [
        "# What do we expect from this 150 days challange:\n",
        "\n",
        "\n",
        "*   Gain basic Python programming concepts.\n",
        "*   How to develop real-world Python applications.\n",
        "*   Apply Python programming techniques in specific fields such as Data Science, Machine Learning, and AI.\n",
        "\n"
      ],
      "metadata": {
        "id": "ZCMmOkHxUA2O"
      }
    },
    {
      "cell_type": "markdown",
      "source": [
        "# Okay, let's begin. What is Python?\n",
        "Python is a `high-level`, `general-purpose`, `interpreted` programming language.\n",
        "Python is a high-level programming language that makes it easy to learn. Python doesn’t require you to understand the details of the computer in order to develop programs efficiently. On the other hand, Python is a general-purpose language. It means that you can use Python in various domains including:\n",
        "\n",
        "    * Web applications\n",
        "    * Big data applications\n",
        "    * Testing\n",
        "    * Automation\n",
        "    * Data science, machine learning, and AI\n",
        "    * Desktop software\n",
        "    * Mobile apps"
      ],
      "metadata": {
        "id": "USAJWacGAKuV"
      }
    },
    {
      "cell_type": "markdown",
      "source": [
        "Finaly, Python is an interpreted language. To develop a Python program, you write a Python code into a file called source code.\n",
        "\n",
        "To execute the source code, you need to convert it to the machine language that the computer can understand. And the Python interpreter turns the source code, line by line, once at a time, into the machine code when the Python program executes.\n",
        "\n",
        "Compiled languages like Java and C# use a compiler that compiles the whole source code before the program executes."
      ],
      "metadata": {
        "id": "XLW3TBe7BZbF"
      }
    },
    {
      "cell_type": "markdown",
      "source": [
        "# Why Python\n",
        "\n",
        "Python increases your productivity. Python allows you to solve complex problems in less time and fewer lines of code. It’s quick to make a prototype in Python.\n",
        "\n",
        "Python becomes a solution in many areas across industries, from web applications to data science and machine learning.\n",
        "\n",
        "Python is quite easy to learn in comparison with other programming languages. Python syntax is clear and beautiful.\n",
        "\n",
        "Python has a large ecosystem that includes lots of libraries and frameworks.\n",
        "\n",
        "Python is cross-platform. Python programs can run on Windows, Linux, and macOS.\n",
        "\n",
        "Python has a huge community. Whenever you get stuck, you can get help from an active community.\n",
        "\n",
        "Python developers are in high demand."
      ],
      "metadata": {
        "id": "KeS2gXR6B9vE"
      }
    }
  ]
}