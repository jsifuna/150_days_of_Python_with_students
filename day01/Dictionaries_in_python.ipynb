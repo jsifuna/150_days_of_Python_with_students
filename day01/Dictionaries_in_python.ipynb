{
  "nbformat": 4,
  "nbformat_minor": 0,
  "metadata": {
    "colab": {
      "provenance": []
    },
    "kernelspec": {
      "name": "python3",
      "display_name": "Python 3"
    },
    "language_info": {
      "name": "python"
    }
  },
  "cells": [
    {
      "cell_type": "markdown",
      "source": [
        "# **Python Dictionaries**\n",
        "By James Sifuna, Ph.D\n",
        "\n",
        "\n",
        "\n"
      ],
      "metadata": {
        "id": "VW0k85VFyNlN"
      }
    },
    {
      "cell_type": "markdown",
      "source": [
        "Dictionaries are unordered,and mutable data structures.They can be created using the dict() constructor or curly braces' {}'. It has components of Keys and Values."
      ],
      "metadata": {
        "id": "4zf9-7jeCtNh"
      }
    },
    {
      "cell_type": "code",
      "source": [
        "dictt = {\n",
        "    \"brand\" : \"Ford\",\n",
        "    \"model\" : \"Mustang\",\n",
        "    \"year\"  : 1964,\n",
        "    \"colors\":[\"red\",\"white\",\"blue\"]\n",
        "}\n"
      ],
      "metadata": {
        "id": "UB9mcE_-yj-U"
      },
      "execution_count": 1,
      "outputs": []
    },
    {
      "cell_type": "code",
      "source": [
        "print(dictt)"
      ],
      "metadata": {
        "colab": {
          "base_uri": "https://localhost:8080/"
        },
        "id": "lapPvNfsDfqV",
        "outputId": "d6a9b68b-70df-40f8-b174-c327a6ebd25d"
      },
      "execution_count": 2,
      "outputs": [
        {
          "output_type": "stream",
          "name": "stdout",
          "text": [
            "{'brand': 'Ford', 'model': 'Mustang', 'year': 1964, 'colors': ['red', 'white', 'blue']}\n"
          ]
        }
      ]
    },
    {
      "cell_type": "code",
      "source": [
        "print(len(dictt))"
      ],
      "metadata": {
        "colab": {
          "base_uri": "https://localhost:8080/"
        },
        "id": "Bnxtgzp3DfXr",
        "outputId": "469df928-6765-408c-c2c1-5127e32222aa"
      },
      "execution_count": 3,
      "outputs": [
        {
          "output_type": "stream",
          "name": "stdout",
          "text": [
            "4\n"
          ]
        }
      ]
    },
    {
      "cell_type": "code",
      "source": [
        "print(type(dictt))"
      ],
      "metadata": {
        "colab": {
          "base_uri": "https://localhost:8080/"
        },
        "id": "ehxMgeWzDk-z",
        "outputId": "92e26134-3c16-47c5-97b0-d0d43664c409"
      },
      "execution_count": 4,
      "outputs": [
        {
          "output_type": "stream",
          "name": "stdout",
          "text": [
            "<class 'dict'>\n"
          ]
        }
      ]
    },
    {
      "cell_type": "markdown",
      "source": [
        "# **Access Dictionary Items**"
      ],
      "metadata": {
        "id": "VPixmMeUDsM5"
      }
    },
    {
      "cell_type": "code",
      "source": [
        "dictt = {\n",
        "    \"brand\" : \"Ford\",\n",
        "    \"model\" : \"Mustang\",\n",
        "    \"year\"  : 1964\n",
        "}\n",
        "x = dictt[\"model\"]\n",
        "y = dictt.get(\"model\")\n",
        "z = dictt.keys()\n",
        "a = dictt.values()\n",
        "b = dictt.items()"
      ],
      "metadata": {
        "id": "stmBcB1-Dqe2"
      },
      "execution_count": 5,
      "outputs": []
    },
    {
      "cell_type": "code",
      "source": [
        "print(x)\n",
        "print(y)"
      ],
      "metadata": {
        "colab": {
          "base_uri": "https://localhost:8080/"
        },
        "id": "1yS-wJ7qJVDQ",
        "outputId": "08d3b70f-4520-4b34-8be6-40b2c010a653"
      },
      "execution_count": 6,
      "outputs": [
        {
          "output_type": "stream",
          "name": "stdout",
          "text": [
            "Mustang\n",
            "Mustang\n"
          ]
        }
      ]
    },
    {
      "cell_type": "code",
      "source": [
        "print(z)"
      ],
      "metadata": {
        "colab": {
          "base_uri": "https://localhost:8080/"
        },
        "id": "irYUgaqQJb-b",
        "outputId": "f10a42b0-4a32-4371-ea13-dd66fd936068"
      },
      "execution_count": 7,
      "outputs": [
        {
          "output_type": "stream",
          "name": "stdout",
          "text": [
            "dict_keys(['brand', 'model', 'year'])\n"
          ]
        }
      ]
    },
    {
      "cell_type": "code",
      "source": [
        "print(a)"
      ],
      "metadata": {
        "colab": {
          "base_uri": "https://localhost:8080/"
        },
        "id": "73UAVKGVJekD",
        "outputId": "bb976603-d6ce-443e-9dea-304576c2837c"
      },
      "execution_count": 8,
      "outputs": [
        {
          "output_type": "stream",
          "name": "stdout",
          "text": [
            "dict_values(['Ford', 'Mustang', 1964])\n"
          ]
        }
      ]
    },
    {
      "cell_type": "code",
      "source": [
        "print(b)"
      ],
      "metadata": {
        "colab": {
          "base_uri": "https://localhost:8080/"
        },
        "id": "B5tbt3P5Jf1t",
        "outputId": "059a99e2-bb94-4950-f6b2-4ca61296d1d3"
      },
      "execution_count": 9,
      "outputs": [
        {
          "output_type": "stream",
          "name": "stdout",
          "text": [
            "dict_items([('brand', 'Ford'), ('model', 'Mustang'), ('year', 1964)])\n"
          ]
        }
      ]
    },
    {
      "cell_type": "markdown",
      "source": [
        "# **Change Dictionary Items**"
      ],
      "metadata": {
        "id": "NrkWOo66JksM"
      }
    },
    {
      "cell_type": "markdown",
      "source": [
        "In order to change the values in dictionary items we need to chnage the value of a specific item by referring to its key name."
      ],
      "metadata": {
        "id": "VQr4prd2Jt0E"
      }
    },
    {
      "cell_type": "code",
      "source": [
        "dictt = {\n",
        "    \"brand\" : \"Ford\",\n",
        "    \"model\" :\"Mustang\",\n",
        "    \"year\" : 1964\n",
        "}\n",
        "dictt[\"year\"] = 2024"
      ],
      "metadata": {
        "id": "umQosI4WJjV8"
      },
      "execution_count": 10,
      "outputs": []
    },
    {
      "cell_type": "code",
      "source": [
        "print(dictt)"
      ],
      "metadata": {
        "colab": {
          "base_uri": "https://localhost:8080/"
        },
        "id": "yh1rjxoAKMbc",
        "outputId": "6f37fe16-109c-4a14-af1c-31a577fe2536"
      },
      "execution_count": 11,
      "outputs": [
        {
          "output_type": "stream",
          "name": "stdout",
          "text": [
            "{'brand': 'Ford', 'model': 'Mustang', 'year': 2024}\n"
          ]
        }
      ]
    },
    {
      "cell_type": "markdown",
      "source": [
        "# **Adding Items**"
      ],
      "metadata": {
        "id": "70RO0AGNKQms"
      }
    },
    {
      "cell_type": "markdown",
      "source": [
        "we can add items in the dictionary by using new index key and assigning a value to it."
      ],
      "metadata": {
        "id": "HSii-3SxLUXJ"
      }
    },
    {
      "cell_type": "code",
      "source": [
        "dictt = {\n",
        "    \"brand\" : \"Ford\",\n",
        "    \"model\" :\"Mustang\",\n",
        "    \"year\" : 1964\n",
        "}\n",
        "dictt[\"color\"] = \"red\"\n",
        "print(dictt)"
      ],
      "metadata": {
        "colab": {
          "base_uri": "https://localhost:8080/"
        },
        "id": "s_rhTPb3KNyf",
        "outputId": "00206ceb-643a-4147-8d9c-2615307837f1"
      },
      "execution_count": 12,
      "outputs": [
        {
          "output_type": "stream",
          "name": "stdout",
          "text": [
            "{'brand': 'Ford', 'model': 'Mustang', 'year': 1964, 'color': 'red'}\n"
          ]
        }
      ]
    },
    {
      "cell_type": "code",
      "source": [
        "dictt = {\n",
        "    \"brand\" : \"Ford\",\n",
        "    \"model\" :\"Mustang\",\n",
        "    \"year\" : 1964\n",
        "}\n",
        "dictt.update({\"color\":\"red\"})\n",
        "print(dictt)"
      ],
      "metadata": {
        "colab": {
          "base_uri": "https://localhost:8080/"
        },
        "id": "6kL84QJtLycI",
        "outputId": "5d326b97-2e66-4393-b035-0355a4833e49"
      },
      "execution_count": 13,
      "outputs": [
        {
          "output_type": "stream",
          "name": "stdout",
          "text": [
            "{'brand': 'Ford', 'model': 'Mustang', 'year': 1964, 'color': 'red'}\n"
          ]
        }
      ]
    },
    {
      "cell_type": "markdown",
      "source": [
        "# **Removing Dictionary Items**"
      ],
      "metadata": {
        "id": "k-6EkcMyMC6Z"
      }
    },
    {
      "cell_type": "markdown",
      "source": [
        "we can use pop() method to remove the items, popitem() removes the last inserted item. The del keyowrd removes the item with the specified key name."
      ],
      "metadata": {
        "id": "kmEJyTrTMHgU"
      }
    },
    {
      "cell_type": "code",
      "source": [
        "dictt = {\n",
        "    \"brand\" : \"Ford\",\n",
        "    \"model\" :\"Mustang\",\n",
        "    \"year\" : 1964\n",
        "}\n",
        "dictt.pop(\"model\")\n",
        "print(dictt)"
      ],
      "metadata": {
        "colab": {
          "base_uri": "https://localhost:8080/"
        },
        "id": "VcRkSHgmL8c_",
        "outputId": "428c7bd7-b9a4-4ec3-af95-06a6a4c33a20"
      },
      "execution_count": 14,
      "outputs": [
        {
          "output_type": "stream",
          "name": "stdout",
          "text": [
            "{'brand': 'Ford', 'year': 1964}\n"
          ]
        }
      ]
    },
    {
      "cell_type": "code",
      "source": [
        "dictt = {\n",
        "    \"brand\" : \"Ford\",\n",
        "    \"model\" :\"Mustang\",\n",
        "    \"year\" : 1964\n",
        "}\n",
        "dictt.popitem()\n",
        "print(dictt)"
      ],
      "metadata": {
        "colab": {
          "base_uri": "https://localhost:8080/"
        },
        "id": "IBuj7bfWMfa1",
        "outputId": "51b992e3-7563-4945-df4f-2a30184424e1"
      },
      "execution_count": 15,
      "outputs": [
        {
          "output_type": "stream",
          "name": "stdout",
          "text": [
            "{'brand': 'Ford', 'model': 'Mustang'}\n"
          ]
        }
      ]
    },
    {
      "cell_type": "code",
      "source": [
        "dictt = {\n",
        "    \"brand\" : \"Ford\",\n",
        "    \"model\" :\"Mustang\",\n",
        "    \"year\" : 1964\n",
        "}\n",
        "del dictt[\"model\"]\n",
        "print(dictt)"
      ],
      "metadata": {
        "colab": {
          "base_uri": "https://localhost:8080/"
        },
        "id": "FNYxgW6lMwXu",
        "outputId": "4b10d4e0-1064-4bfe-d71a-c0417d7c1824"
      },
      "execution_count": 16,
      "outputs": [
        {
          "output_type": "stream",
          "name": "stdout",
          "text": [
            "{'brand': 'Ford', 'year': 1964}\n"
          ]
        }
      ]
    },
    {
      "cell_type": "code",
      "source": [
        "dictt = {\n",
        "    \"brand\" : \"Ford\",\n",
        "    \"model\" :\"Mustang\",\n",
        "    \"year\" : 1964\n",
        "}\n",
        "dictt.clear()\n",
        "print(dictt)"
      ],
      "metadata": {
        "colab": {
          "base_uri": "https://localhost:8080/"
        },
        "id": "vyNiTfNtM2QA",
        "outputId": "9234224c-453b-4d99-fbe6-f26bb62e1c88"
      },
      "execution_count": 17,
      "outputs": [
        {
          "output_type": "stream",
          "name": "stdout",
          "text": [
            "{}\n"
          ]
        }
      ]
    }
  ]
}