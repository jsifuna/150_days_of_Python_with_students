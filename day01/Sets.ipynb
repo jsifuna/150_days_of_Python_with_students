{
  "nbformat": 4,
  "nbformat_minor": 0,
  "metadata": {
    "colab": {
      "provenance": []
    },
    "kernelspec": {
      "name": "python3",
      "display_name": "Python 3"
    },
    "language_info": {
      "name": "python"
    }
  },
  "cells": [
    {
      "cell_type": "markdown",
      "source": [
        "# **Python Sets by James Sifuna (PhD)**"
      ],
      "metadata": {
        "id": "1v_z7AmOhP-U"
      }
    },
    {
      "cell_type": "markdown",
      "source": [
        "A set in Python is an unordered collection of data types that is iterable, mutable, and has no duplicate elements. Sets are represented by {} (values enclosed in curly braces, mostly we employ them in Mathematics and Physics).\n",
        "\n",
        "- Unordered: Sets are unordered, meaning the items in a set do not have a defined order.\n",
        "\n",
        "- Unique Elements: Sets include only unique elements. **No duplicates are allowed.**\n",
        "\n",
        "- Mutable: While individual set items are unchangeable (immutable), the set as a whole is mutable.\n",
        "\n",
        "- No Indexing or Slicing: There is no index attached to any element in a Python set, so they do not support any indexing or slicing operation3."
      ],
      "metadata": {
        "id": "IAcrD71uhUZ5"
      }
    },
    {
      "cell_type": "code",
      "source": [
        "fruits = {\"apple\", \"banana\", \"cherry\", \"apple\"}\n",
        "print(fruits)\n",
        "print(len(fruits))\n",
        "print(type(fruits))"
      ],
      "metadata": {
        "colab": {
          "base_uri": "https://localhost:8080/"
        },
        "id": "pWbQa_-xhTmc",
        "outputId": "943d6d11-cf59-43c7-863a-42e90bb87a32"
      },
      "execution_count": 1,
      "outputs": [
        {
          "output_type": "stream",
          "name": "stdout",
          "text": [
            "{'cherry', 'apple', 'banana'}\n",
            "3\n",
            "<class 'set'>\n"
          ]
        }
      ]
    },
    {
      "cell_type": "code",
      "execution_count": 2,
      "metadata": {
        "colab": {
          "base_uri": "https://localhost:8080/"
        },
        "id": "st1XA__7hKbS",
        "outputId": "d844385b-6ae2-4a6c-eac8-11003034e5d7"
      },
      "outputs": [
        {
          "output_type": "stream",
          "name": "stdout",
          "text": [
            "{True, 2, 'cherry', 'apple', 'banana'}\n"
          ]
        }
      ],
      "source": [
        "fruits = {\"apple\", \"banana\", \"cherry\", True, 1, 2}\n",
        "print(fruits)"
      ]
    },
    {
      "cell_type": "code",
      "source": [
        "#Using the set() constructor to make a set: In principle, we can run away from the curly braces and use the set constructor\n",
        "fruits = set((\"apple\", \"banana\", \"cherry\"))\n",
        "print(fruits)"
      ],
      "metadata": {
        "colab": {
          "base_uri": "https://localhost:8080/"
        },
        "id": "igUIXfU4ilFn",
        "outputId": "57d441c7-e715-4294-b080-65d752ee2a9e"
      },
      "execution_count": 3,
      "outputs": [
        {
          "output_type": "stream",
          "name": "stdout",
          "text": [
            "{'cherry', 'apple', 'banana'}\n"
          ]
        }
      ]
    },
    {
      "cell_type": "markdown",
      "source": [
        "# **Access Set items**"
      ],
      "metadata": {
        "id": "ossI-7Iai4qS"
      }
    },
    {
      "cell_type": "markdown",
      "source": [
        "We cannot access items in a set by reffering to an index or a key.\n",
        "\n",
        "we can loop thorught tge set itens using a for loop , or ask if a soecified values is present in a set , by using the **in** keyword."
      ],
      "metadata": {
        "id": "fXHWvrsQi8sc"
      }
    },
    {
      "cell_type": "code",
      "source": [
        "fruits = {\"apple\", \"banana\", \"cherry\"}\n",
        "print(\"banana\" in fruits)"
      ],
      "metadata": {
        "colab": {
          "base_uri": "https://localhost:8080/"
        },
        "id": "fvL2vMtei3CA",
        "outputId": "d5a689f6-71a2-4da7-80c1-096b4cd79345"
      },
      "execution_count": 4,
      "outputs": [
        {
          "output_type": "stream",
          "name": "stdout",
          "text": [
            "True\n"
          ]
        }
      ]
    },
    {
      "cell_type": "markdown",
      "source": [
        "# **Add Set Items**"
      ],
      "metadata": {
        "id": "YkHlqE_bjUSg"
      }
    },
    {
      "cell_type": "markdown",
      "source": [
        "- once a set is created we cannot change its items , we can add new items.using add() method or the update() method."
      ],
      "metadata": {
        "id": "tG6Aygrhjcj9"
      }
    },
    {
      "cell_type": "code",
      "source": [
        "fruits = {\"apple\", \"banana\", \"cherry\"}\n",
        "fruits.add(\"orange\")\n",
        "print(fruits)"
      ],
      "metadata": {
        "colab": {
          "base_uri": "https://localhost:8080/"
        },
        "id": "vjWo3F6-jcGT",
        "outputId": "fe496d78-757f-4721-be89-2d2805388dd3"
      },
      "execution_count": 5,
      "outputs": [
        {
          "output_type": "stream",
          "name": "stdout",
          "text": [
            "{'cherry', 'orange', 'apple', 'banana'}\n"
          ]
        }
      ]
    },
    {
      "cell_type": "code",
      "source": [
        "fruits = {\"apple\", \"banana\", \"cherry\"}\n",
        "fruits2 = {\"pineapple\", \"mango\", \"papaya\"}\n",
        "fruits.update(fruits2)\n",
        "print(fruits)"
      ],
      "metadata": {
        "colab": {
          "base_uri": "https://localhost:8080/"
        },
        "id": "XtSxvAmPjTT8",
        "outputId": "ec43a193-604f-4626-9520-71f029df60de"
      },
      "execution_count": 6,
      "outputs": [
        {
          "output_type": "stream",
          "name": "stdout",
          "text": [
            "{'mango', 'pineapple', 'papaya', 'cherry', 'apple', 'banana'}\n"
          ]
        }
      ]
    },
    {
      "cell_type": "markdown",
      "source": [
        "# **Remove Set Items**"
      ],
      "metadata": {
        "id": "AagmopKXkFCD"
      }
    },
    {
      "cell_type": "markdown",
      "source": [
        "- Remove \"banana\" by using the remove() method.\n",
        "- Remove \"banana\" by using the discard() method.\n",
        "- Remove a random item by using the pop() method.\n",
        "- clear() method empties the set.\n",
        "- del keyowrd will delete the set completely."
      ],
      "metadata": {
        "id": "Cbhn5cdakIzZ"
      }
    },
    {
      "cell_type": "code",
      "source": [
        "fruits = {\"apple\", \"banana\", \"cherry\"}\n",
        "fruits.remove(\"banana\")\n",
        "print(fruits)"
      ],
      "metadata": {
        "colab": {
          "base_uri": "https://localhost:8080/"
        },
        "id": "L9TSFQKaj4VV",
        "outputId": "124d038d-9843-40c0-f7dd-7e0c5304f0aa"
      },
      "execution_count": 7,
      "outputs": [
        {
          "output_type": "stream",
          "name": "stdout",
          "text": [
            "{'cherry', 'apple'}\n"
          ]
        }
      ]
    },
    {
      "cell_type": "code",
      "source": [
        "fruits = {\"apple\", \"banana\", \"cherry\"}\n",
        "fruits.discard(\"banana\")\n",
        "print(fruits)"
      ],
      "metadata": {
        "colab": {
          "base_uri": "https://localhost:8080/"
        },
        "id": "gdMsOTx6kpG-",
        "outputId": "97e592ee-5336-4bb3-c815-4bc30fd312cf"
      },
      "execution_count": 8,
      "outputs": [
        {
          "output_type": "stream",
          "name": "stdout",
          "text": [
            "{'cherry', 'apple'}\n"
          ]
        }
      ]
    },
    {
      "cell_type": "code",
      "source": [
        "fruits = {\"apple\", \"banana\", \"cherry\"}\n",
        "x = fruits.pop()\n",
        "print(x)\n",
        "print(fruits)"
      ],
      "metadata": {
        "colab": {
          "base_uri": "https://localhost:8080/"
        },
        "id": "pkQQNbJKkt5c",
        "outputId": "08a4ccf1-bbba-4577-de45-a5931d872a6b"
      },
      "execution_count": 9,
      "outputs": [
        {
          "output_type": "stream",
          "name": "stdout",
          "text": [
            "cherry\n",
            "{'apple', 'banana'}\n"
          ]
        }
      ]
    },
    {
      "cell_type": "code",
      "source": [
        "fruits = {\"apple\", \"banana\", \"cherry\"}\n",
        "fruits.clear()\n",
        "print(fruits)"
      ],
      "metadata": {
        "colab": {
          "base_uri": "https://localhost:8080/"
        },
        "id": "j3J2JZa_k0yd",
        "outputId": "2f3b9243-7f81-40a1-c506-690bad5cec49"
      },
      "execution_count": 10,
      "outputs": [
        {
          "output_type": "stream",
          "name": "stdout",
          "text": [
            "set()\n"
          ]
        }
      ]
    },
    {
      "cell_type": "code",
      "source": [
        "fruits = {\"apple\", \"banana\", \"cherry\"}\n",
        "del fruits"
      ],
      "metadata": {
        "id": "kldzK9jAk8Wa"
      },
      "execution_count": 11,
      "outputs": []
    },
    {
      "cell_type": "markdown",
      "source": [
        "# **Join Two Sets**"
      ],
      "metadata": {
        "id": "3aDmHCuak_FP"
      }
    },
    {
      "cell_type": "markdown",
      "source": [
        "union() method , update() method - intersection_update() , symmetric_difference_update()"
      ],
      "metadata": {
        "id": "QWPZKBvalD8q"
      }
    },
    {
      "cell_type": "code",
      "source": [
        "set1 = {\"a\", \"b\" , \"c\"}\n",
        "set2 = {1, 2, 3}\n",
        "set3 = set1.union(set2)\n",
        "print(set3)"
      ],
      "metadata": {
        "colab": {
          "base_uri": "https://localhost:8080/"
        },
        "id": "ByIJlT8Gk-Tw",
        "outputId": "54861821-a72b-4354-c75b-9e4dbad7d52e"
      },
      "execution_count": 12,
      "outputs": [
        {
          "output_type": "stream",
          "name": "stdout",
          "text": [
            "{1, 2, 3, 'b', 'a', 'c'}\n"
          ]
        }
      ]
    },
    {
      "cell_type": "code",
      "source": [
        "x = {\"apple\", \"banana\", \"cherry\"}\n",
        "y = {\"google\", \"microsoft\", \"apple\"}\n",
        "x.intersection_update(y)\n",
        "print(x)"
      ],
      "metadata": {
        "colab": {
          "base_uri": "https://localhost:8080/"
        },
        "id": "PoDZQDVHldC4",
        "outputId": "350801a3-ce49-46fa-f5ba-7b14733cb21d"
      },
      "execution_count": 13,
      "outputs": [
        {
          "output_type": "stream",
          "name": "stdout",
          "text": [
            "{'apple'}\n"
          ]
        }
      ]
    },
    {
      "cell_type": "code",
      "source": [
        "x = {\"apple\", \"banana\", \"cherry\"}\n",
        "y = {\"google\", \"microsoft\", \"apple\"}\n",
        "x.symmetric_difference_update(y)\n",
        "print(x)"
      ],
      "metadata": {
        "colab": {
          "base_uri": "https://localhost:8080/"
        },
        "id": "Be_MI1blljO_",
        "outputId": "6dd3399f-46c5-4ab1-daae-4001c2c26100"
      },
      "execution_count": 14,
      "outputs": [
        {
          "output_type": "stream",
          "name": "stdout",
          "text": [
            "{'microsoft', 'cherry', 'google', 'banana'}\n"
          ]
        }
      ]
    },
    {
      "cell_type": "code",
      "source": [
        "set1 = {\"a\", \"b\" , \"c\"}\n",
        "set2 = {1, 2, 3}\n",
        "set1.update(set2)\n",
        "print(set1)"
      ],
      "metadata": {
        "colab": {
          "base_uri": "https://localhost:8080/"
        },
        "id": "8xj5kZLulsk3",
        "outputId": "d6e64966-44fb-434c-9214-3f73d0c68392"
      },
      "execution_count": 15,
      "outputs": [
        {
          "output_type": "stream",
          "name": "stdout",
          "text": [
            "{1, 2, 3, 'b', 'a', 'c'}\n"
          ]
        }
      ]
    }
  ]
}