{
  "nbformat": 4,
  "nbformat_minor": 0,
  "metadata": {
    "colab": {
      "provenance": []
    },
    "kernelspec": {
      "name": "python3",
      "display_name": "Python 3"
    },
    "language_info": {
      "name": "python"
    }
  },
  "cells": [
    {
      "cell_type": "markdown",
      "source": [
        "# **Python Modules**\n",
        "By J. Sifuna, Ph.D\n",
        "\n",
        "There are two types of python modules:\n",
        "\n",
        "1. Buit-in modules\n",
        "2. User-defined modules\n",
        "\n",
        "Built-in modules include things like:\n",
        "\n",
        "- math\n",
        "\n",
        "- date\n",
        "\n",
        "- os\n",
        "\n",
        "- sys"
      ],
      "metadata": {
        "id": "qm9OFQS-9W94"
      }
    },
    {
      "cell_type": "code",
      "execution_count": 46,
      "metadata": {
        "colab": {
          "base_uri": "https://localhost:8080/"
        },
        "id": "1bMcGupB9Pu8",
        "outputId": "6a6ddaaf-9177-4a37-ae9c-d6ae1383d06a"
      },
      "outputs": [
        {
          "output_type": "stream",
          "name": "stdout",
          "text": [
            "Value of cos90 is: -0.4480736161291701\n",
            "Value of sin0 is: 0.0\n",
            "Value of tan45 is: 1.6197751905438615\n",
            "Value of pie is: 3.141592653589793\n"
          ]
        }
      ],
      "source": [
        "import math\n",
        "cos90 = math.cos(90)\n",
        "sin0 = math.sin(0)\n",
        "tan45 = math.tan(45)\n",
        "pie = math.pi\n",
        "print(\"Value of cos90 is:\", cos90)\n",
        "print(\"Value of sin0 is:\", sin0)\n",
        "print(\"Value of tan45 is:\",tan45)\n",
        "print(\"Value of pie is:\",pie)"
      ]
    },
    {
      "cell_type": "code",
      "source": [
        "from math import e, tau\n",
        "print(\"The value of tau is:\",tau)\n",
        "print(\"euler's number is:\",e)"
      ],
      "metadata": {
        "colab": {
          "base_uri": "https://localhost:8080/"
        },
        "id": "eEfAwiyc-MXA",
        "outputId": "7dc549c6-a6c1-4be3-e029-4d06aa840c8d"
      },
      "execution_count": 47,
      "outputs": [
        {
          "output_type": "stream",
          "name": "stdout",
          "text": [
            "The value of tau is: 6.283185307179586\n",
            "euler's number is: 2.718281828459045\n"
          ]
        }
      ]
    },
    {
      "cell_type": "code",
      "source": [
        "from math import sqrt,factorial,pi\n",
        "print(sqrt(100))\n",
        "print(factorial(5))\n",
        "print(pi)"
      ],
      "metadata": {
        "colab": {
          "base_uri": "https://localhost:8080/"
        },
        "id": "9pT0KZD_-fbz",
        "outputId": "7dc4b620-f528-4109-8369-fdca5da68f20"
      },
      "execution_count": 48,
      "outputs": [
        {
          "output_type": "stream",
          "name": "stdout",
          "text": [
            "10.0\n",
            "120\n",
            "3.141592653589793\n"
          ]
        }
      ]
    },
    {
      "cell_type": "code",
      "source": [
        "import math\n",
        "x = math.ceil(5.7) #rounds a number upwards to its nearest integer.\n",
        "y = math.floor(5.7) #rounds a number downwards to its nearest integer\n",
        "print(x)\n",
        "print(y)"
      ],
      "metadata": {
        "colab": {
          "base_uri": "https://localhost:8080/"
        },
        "id": "sv4qQ_OT-usU",
        "outputId": "4e98b4b4-7ddd-4c9c-ee47-e32c0882d26a"
      },
      "execution_count": 49,
      "outputs": [
        {
          "output_type": "stream",
          "name": "stdout",
          "text": [
            "6\n",
            "5\n"
          ]
        }
      ]
    },
    {
      "cell_type": "code",
      "source": [
        "#return the power fucntion (x^y)\n",
        "import math\n",
        "x = pow(4,3)\n",
        "print(\"4 to the power of 3:\",x)"
      ],
      "metadata": {
        "colab": {
          "base_uri": "https://localhost:8080/"
        },
        "id": "zmcc2UPR-2x8",
        "outputId": "7b9ff6de-9cae-46c2-ee05-ebaaca6f4ec8"
      },
      "execution_count": 50,
      "outputs": [
        {
          "output_type": "stream",
          "name": "stdout",
          "text": [
            "4 to the power of 3: 64\n"
          ]
        }
      ]
    },
    {
      "cell_type": "code",
      "source": [
        "import math\n",
        "x = min(5,10,25)\n",
        "y = max(5,10,25)\n",
        "\n",
        "print(\"Minimum value in x:\",x)\n",
        "print(\"Maximum value in y:\",y)"
      ],
      "metadata": {
        "colab": {
          "base_uri": "https://localhost:8080/"
        },
        "id": "ZLQSMLQa_SDf",
        "outputId": "6358bcb4-7448-418a-f574-ce2ef101a554"
      },
      "execution_count": 51,
      "outputs": [
        {
          "output_type": "stream",
          "name": "stdout",
          "text": [
            "Minimum value in x: 5\n",
            "Maximum value in y: 25\n"
          ]
        }
      ]
    },
    {
      "cell_type": "code",
      "source": [
        "#abs() returns the absolute (positive) value of the specified number\n",
        "import math\n",
        "x = abs(-49.25)\n",
        "print(x)"
      ],
      "metadata": {
        "colab": {
          "base_uri": "https://localhost:8080/"
        },
        "id": "4ZLB3rHH_krW",
        "outputId": "a818f579-f470-4b68-dc86-0dda5d2f5fd5"
      },
      "execution_count": 52,
      "outputs": [
        {
          "output_type": "stream",
          "name": "stdout",
          "text": [
            "49.25\n"
          ]
        }
      ]
    },
    {
      "cell_type": "markdown",
      "source": [
        "# **Date & Time**"
      ],
      "metadata": {
        "id": "x8BGVitO_vk-"
      }
    },
    {
      "cell_type": "code",
      "source": [
        "import datetime\n",
        "now = datetime.datetime.now()\n",
        "print(now)\n",
        "print(now.year)\n",
        "print(now.month)\n",
        "print(now.day)"
      ],
      "metadata": {
        "colab": {
          "base_uri": "https://localhost:8080/"
        },
        "id": "v2vTQX0L_zat",
        "outputId": "0c517a00-ad11-4b68-f166-96b90cd5b872"
      },
      "execution_count": 53,
      "outputs": [
        {
          "output_type": "stream",
          "name": "stdout",
          "text": [
            "2024-01-25 09:11:16.208694\n",
            "2024\n",
            "1\n",
            "25\n"
          ]
        }
      ]
    },
    {
      "cell_type": "code",
      "source": [
        "import time\n",
        "print(time.time())"
      ],
      "metadata": {
        "colab": {
          "base_uri": "https://localhost:8080/"
        },
        "id": "zYKc6FJZACsr",
        "outputId": "5ffc43ee-1025-4124-ff79-07615cf71eef"
      },
      "execution_count": 54,
      "outputs": [
        {
          "output_type": "stream",
          "name": "stdout",
          "text": [
            "1706173876.2211742\n"
          ]
        }
      ]
    },
    {
      "cell_type": "code",
      "source": [
        "#print current time\n",
        "import time\n",
        "print(time.ctime())"
      ],
      "metadata": {
        "colab": {
          "base_uri": "https://localhost:8080/"
        },
        "id": "uKE0BID_AY3q",
        "outputId": "118ad7c5-70cb-4b9b-cb83-7b99aafd0d37"
      },
      "execution_count": 55,
      "outputs": [
        {
          "output_type": "stream",
          "name": "stdout",
          "text": [
            "Thu Jan 25 09:11:16 2024\n"
          ]
        }
      ]
    },
    {
      "cell_type": "code",
      "source": [
        "#sleep() function inside time module is used to delay execution of current time thread by the given number of seconds.\n",
        "import time\n",
        "time.sleep(10)\n",
        "print(time.ctime())"
      ],
      "metadata": {
        "colab": {
          "base_uri": "https://localhost:8080/"
        },
        "id": "y9id5yLFAhFg",
        "outputId": "ea2a3572-4b10-4314-8a30-6d433cd84170"
      },
      "execution_count": 56,
      "outputs": [
        {
          "output_type": "stream",
          "name": "stdout",
          "text": [
            "Thu Jan 25 09:11:26 2024\n"
          ]
        }
      ]
    },
    {
      "cell_type": "code",
      "source": [
        "#To get the output of local time in struct_time format, use the localtime() function.\n",
        "import time\n",
        "print(time.localtime(1704229704.6241024)) #use the above tym format"
      ],
      "metadata": {
        "colab": {
          "base_uri": "https://localhost:8080/"
        },
        "id": "PjF0dKJ1ArUd",
        "outputId": "b662df00-d59a-4c1c-a067-527f9b549fb9"
      },
      "execution_count": 57,
      "outputs": [
        {
          "output_type": "stream",
          "name": "stdout",
          "text": [
            "time.struct_time(tm_year=2024, tm_mon=1, tm_mday=2, tm_hour=21, tm_min=8, tm_sec=24, tm_wday=1, tm_yday=2, tm_isdst=0)\n"
          ]
        }
      ]
    },
    {
      "cell_type": "code",
      "source": [
        "#To get the output of Coordinated Universal Time in struct_time format, use the gmtime() function.\n",
        "import time\n",
        "print(time.gmtime(1704229704.6241024))"
      ],
      "metadata": {
        "colab": {
          "base_uri": "https://localhost:8080/"
        },
        "id": "2vFZtv9MA97S",
        "outputId": "eb959ee2-4d48-49f5-ce6f-ad87a5cac5e3"
      },
      "execution_count": 58,
      "outputs": [
        {
          "output_type": "stream",
          "name": "stdout",
          "text": [
            "time.struct_time(tm_year=2024, tm_mon=1, tm_mday=2, tm_hour=21, tm_min=8, tm_sec=24, tm_wday=1, tm_yday=2, tm_isdst=0)\n"
          ]
        }
      ]
    },
    {
      "cell_type": "code",
      "source": [
        "#in order to reverse the data into time\n",
        "import time\n",
        "local_time = (2024,1,2,21,8,24,1,2,0)\n",
        "print(time.mktime(local_time))"
      ],
      "metadata": {
        "colab": {
          "base_uri": "https://localhost:8080/"
        },
        "id": "IZYDiHoUBFVT",
        "outputId": "0839b8c3-312b-4167-f4a7-0878c447f551"
      },
      "execution_count": 59,
      "outputs": [
        {
          "output_type": "stream",
          "name": "stdout",
          "text": [
            "1704229704.0\n"
          ]
        }
      ]
    },
    {
      "cell_type": "code",
      "source": [
        "#printing in single string\n",
        "import time\n",
        "local_time = (2024,1,2,21,8,24,1,2,0)\n",
        "print(time.asctime(local_time))"
      ],
      "metadata": {
        "colab": {
          "base_uri": "https://localhost:8080/"
        },
        "id": "CI-f1dVZBhYt",
        "outputId": "fb3a426e-7cc6-4c21-a45e-5e2d45033cf5"
      },
      "execution_count": 60,
      "outputs": [
        {
          "output_type": "stream",
          "name": "stdout",
          "text": [
            "Tue Jan  2 21:08:24 2024\n"
          ]
        }
      ]
    },
    {
      "cell_type": "code",
      "source": [
        "#converting string based into struct_time format\n",
        "import time\n",
        "local_time = \"2 january, 2024\"\n",
        "print(time.strptime(local_time, \"%d %B, %Y\"))"
      ],
      "metadata": {
        "colab": {
          "base_uri": "https://localhost:8080/"
        },
        "id": "Y6s9-BsvCFyy",
        "outputId": "39dc5934-1f96-4149-b4d8-a19c1b711f6e"
      },
      "execution_count": 61,
      "outputs": [
        {
          "output_type": "stream",
          "name": "stdout",
          "text": [
            "time.struct_time(tm_year=2024, tm_mon=1, tm_mday=2, tm_hour=0, tm_min=0, tm_sec=0, tm_wday=1, tm_yday=2, tm_isdst=-1)\n"
          ]
        }
      ]
    },
    {
      "cell_type": "code",
      "source": [
        "#calendar\n",
        "import calendar\n",
        "print(calendar.month(2024,1))"
      ],
      "metadata": {
        "colab": {
          "base_uri": "https://localhost:8080/"
        },
        "id": "wExyaSG4Cfhj",
        "outputId": "c0df6637-a8b7-45c3-d203-ef9694be1770"
      },
      "execution_count": 62,
      "outputs": [
        {
          "output_type": "stream",
          "name": "stdout",
          "text": [
            "    January 2024\n",
            "Mo Tu We Th Fr Sa Su\n",
            " 1  2  3  4  5  6  7\n",
            " 8  9 10 11 12 13 14\n",
            "15 16 17 18 19 20 21\n",
            "22 23 24 25 26 27 28\n",
            "29 30 31\n",
            "\n"
          ]
        }
      ]
    },
    {
      "cell_type": "code",
      "source": [
        "import os\n",
        "import getpass\n",
        "\n",
        "print(os.getcwd())\n",
        "print(getpass.getuser())\n"
      ],
      "metadata": {
        "colab": {
          "base_uri": "https://localhost:8080/"
        },
        "id": "xZTRzUUDET7f",
        "outputId": "0ed66171-1305-425c-b0e4-880ebdc02da0"
      },
      "execution_count": 63,
      "outputs": [
        {
          "output_type": "stream",
          "name": "stdout",
          "text": [
            "/content\n",
            "root\n"
          ]
        }
      ]
    },
    {
      "cell_type": "code",
      "source": [
        "import sys\n",
        "print(sys.version)\n",
        "print(sys.argv)"
      ],
      "metadata": {
        "colab": {
          "base_uri": "https://localhost:8080/"
        },
        "id": "fxXuaSv4DPye",
        "outputId": "786da0ad-d584-45b9-ea06-6077890a6046"
      },
      "execution_count": 64,
      "outputs": [
        {
          "output_type": "stream",
          "name": "stdout",
          "text": [
            "3.10.12 (main, Nov 20 2023, 15:14:05) [GCC 11.4.0]\n",
            "['/usr/local/lib/python3.10/dist-packages/colab_kernel_launcher.py', '-f', '/root/.local/share/jupyter/runtime/kernel-67ceb884-9260-4224-a56b-93ba3f283246.json']\n"
          ]
        }
      ]
    },
    {
      "cell_type": "code",
      "source": [
        "#using json module\n",
        "import json\n",
        "data = {\n",
        "    \"name\": \"sifuna\",\n",
        "    \"age\": 33,\n",
        "    \"County\": \"Nairobi\"\n",
        "}\n",
        "json_data = json.dumps(data)\n",
        "print(json_data)"
      ],
      "metadata": {
        "colab": {
          "base_uri": "https://localhost:8080/"
        },
        "id": "mv3x3OqqEa2c",
        "outputId": "2ee60f9b-4bbf-4712-fe3b-0184136d7eb1"
      },
      "execution_count": 65,
      "outputs": [
        {
          "output_type": "stream",
          "name": "stdout",
          "text": [
            "{\"name\": \"sifuna\", \"age\": 33, \"County\": \"Nairobi\"}\n"
          ]
        }
      ]
    },
    {
      "cell_type": "code",
      "source": [
        "#using the radom module\n",
        "import random\n",
        "print(random.randint(1,100))\n",
        "print(random.choice([1,2,3,4,5]))"
      ],
      "metadata": {
        "colab": {
          "base_uri": "https://localhost:8080/"
        },
        "id": "IPJ3StxmExru",
        "outputId": "62d4c5b6-5c37-44a2-ec94-b217308bc08a"
      },
      "execution_count": 66,
      "outputs": [
        {
          "output_type": "stream",
          "name": "stdout",
          "text": [
            "90\n",
            "1\n"
          ]
        }
      ]
    },
    {
      "cell_type": "markdown",
      "source": [
        "# **User-Defined modules in Python**"
      ],
      "metadata": {
        "id": "-daeEjKyFd0L"
      }
    },
    {
      "cell_type": "markdown",
      "source": [
        "It is created by the user to simplify their project.these modules can contain functions, classes,variables, and other code that you can reuse across multiple scripts."
      ],
      "metadata": {
        "id": "rG-YwleBFiGt"
      }
    },
    {
      "cell_type": "code",
      "source": [
        "import math\n",
        "\n",
        "num1 = int(input(\"Enter first number:\"))\n",
        "num2 = int(input(\"Enter second number:\"))\n",
        "\n",
        "print(\"Addition:\",num1+num2)\n",
        "print(\"Subtraction\",num1-num2)\n",
        "print(\"Multiplication\",num1*num2)\n",
        "print(\"Division\",num1/num2)\n"
      ],
      "metadata": {
        "colab": {
          "base_uri": "https://localhost:8080/"
        },
        "id": "FLk2xGyUE82s",
        "outputId": "28dc5dcc-b73e-41c5-e488-7169d7eaa611"
      },
      "execution_count": 67,
      "outputs": [
        {
          "output_type": "stream",
          "name": "stdout",
          "text": [
            "Enter first number:5\n",
            "Enter second number:6\n",
            "Addition: 11\n",
            "Subtraction -1\n",
            "Multiplication 30\n",
            "Division 0.8333333333333334\n"
          ]
        }
      ]
    },
    {
      "cell_type": "code",
      "source": [
        "Number = 564\n",
        "def AddNumber():\n",
        "  global Number\n",
        "  Number = Number + 200\n",
        "print(\"The number is :\",Number)\n",
        "\n",
        "AddNumber()\n",
        "print(\"The number is:\",Number)"
      ],
      "metadata": {
        "colab": {
          "base_uri": "https://localhost:8080/"
        },
        "id": "cFZt9sg8GPXV",
        "outputId": "8965b867-332a-42ba-ea8d-2c668522de6f"
      },
      "execution_count": 68,
      "outputs": [
        {
          "output_type": "stream",
          "name": "stdout",
          "text": [
            "The number is : 564\n",
            "The number is: 764\n"
          ]
        }
      ]
    }
  ]
}